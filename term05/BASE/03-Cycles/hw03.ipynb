{
 "cells": [
  {
   "cell_type": "markdown",
   "id": "841be60e-9845-421c-be6a-4aacf5858d22",
   "metadata": {
    "id": "_1tOdiaqqX04"
   },
   "source": [
    "#### Задача 1. \n",
    "\n",
    "Пользователь вводит какие-то числа; программа должна выводить в ответ, четное число или нечетное, пока не будет введен 0."
   ]
  },
  {
   "cell_type": "code",
   "execution_count": 1,
   "id": "9b4ee061-946b-49e4-b89c-a0eee3a513be",
   "metadata": {
    "id": "Rvr_eEqjqrkx"
   },
   "outputs": [
    {
     "name": "stdout",
     "output_type": "stream",
     "text": [
      "Число 12 четное\n",
      "Число 57 нечетное\n",
      "Число 93 нечетное\n"
     ]
    }
   ],
   "source": [
    "num = int(input('Введите число: '))\n",
    "while num != 0:\n",
    "    if num % 2:\n",
    "        print(f'Число {num} нечетное')\n",
    "    else:\n",
    "        print(f'Число {num} четное')\n",
    "    num = int(input('Введите число: '))"
   ]
  },
  {
   "cell_type": "markdown",
   "id": "f843e848-f6d1-44b3-abd3-e3c94712ad79",
   "metadata": {
    "id": "JwPe3Dmvqrth"
   },
   "source": [
    "#### Задача 2. \n",
    "\n",
    "Сперва пользователь вводит число n, а потом вводит n чисел. Нужно посчитать среднее арифметическое."
   ]
  },
  {
   "cell_type": "code",
   "execution_count": 7,
   "id": "f2d246b1-17a0-4fff-9322-02b767c32bc6",
   "metadata": {
    "id": "tSB_rTPfq3Wp"
   },
   "outputs": [
    {
     "name": "stdout",
     "output_type": "stream",
     "text": [
      "1-е число:  2-е число:  3-е число:  4-е число:  5-е число:  6-е число:  7-е число:  Среднее арифметическое:  4.0\n"
     ]
    }
   ],
   "source": [
    "num = int(input('Кол-во чисел: '))\n",
    "n = 1\n",
    "summ = 0\n",
    "while num + 1 > n:\n",
    "    print(f'{n}-е число: ', end=' ')\n",
    "    user_n = int(input(''))\n",
    "    summ += user_n\n",
    "    n += 1\n",
    "print('Среднее арифметическое: ', summ / num)"
   ]
  },
  {
   "cell_type": "markdown",
   "id": "f24a0fe9-ee3c-4d0e-a0c7-3d246ee1ade7",
   "metadata": {
    "id": "8-VHAaezq3mg"
   },
   "source": [
    "#### Задача 3. \n",
    "\n",
    "Дано натуральное число n. Напечатайте все n-значные нечетные натуральные числа в порядке убывания. Условными конструкциями пользоваться запрещено.\n",
    "\n",
    "То есть, для введенного 2 должно начинаться как:\n",
    "\n",
    "    99\n",
    "    97\n",
    "    95\n",
    "    93\n",
    "    91\n",
    "    ..."
   ]
  },
  {
   "cell_type": "code",
   "execution_count": 9,
   "id": "91eb0be3-f330-4756-817a-1800ca52d5bf",
   "metadata": {
    "id": "FA2wf7xJq-GR"
   },
   "outputs": [
    {
     "name": "stdout",
     "output_type": "stream",
     "text": [
      "99 97 95 93 91 89 87 85 83 81 79 77 75 73 71 69 67 65 63 61 59 57 55 53 51 49 47 45 43 41 39 37 35 33 31 29 27 25 23 21 19 17 15 13 11 "
     ]
    }
   ],
   "source": [
    "n = int(input('n: '))\n",
    "for _ in range(int(n * '9'), (int((n - 1) * '9')), -2):\n",
    "    print(_, end =' ')"
   ]
  },
  {
   "cell_type": "markdown",
   "id": "14a54f0a-0600-4024-b37b-e174c2c0c27d",
   "metadata": {
    "id": "J6mR5A8urRDQ"
   },
   "source": [
    "#### Задача 4. \n",
    "\n",
    "По данному натуральному n ≤ 9 выведите лесенку из n ступенек, i-я ступенька состоит из чисел от 1 до i без пробелов. То есть, должно быть что-то такое:\n",
    "\n",
    "    1\n",
    "    12\n",
    "    123\n",
    "    1234"
   ]
  },
  {
   "cell_type": "code",
   "execution_count": 12,
   "id": "eea26fe1-a85c-48b8-9a80-f2d1ab182f58",
   "metadata": {
    "id": "cDCzajvgrVBh"
   },
   "outputs": [
    {
     "name": "stdout",
     "output_type": "stream",
     "text": [
      "1\n",
      "12\n",
      "123\n",
      "1234\n",
      "12345\n",
      "123456\n",
      "1234567\n"
     ]
    }
   ],
   "source": [
    "n = int(input('Введите число n: '))\n",
    "while n > 9:\n",
    "    print('Число n не может быть больше 9.')\n",
    "    n = input('Введите число n: ')\n",
    "for i in range(1, n + 1):\n",
    "    for _ in range(1, i + 1):\n",
    "        print(_, end='')\n",
    "    print()"
   ]
  },
  {
   "cell_type": "markdown",
   "id": "69f4780b-d5f4-478b-ada4-02ad98b20156",
   "metadata": {
    "id": "WRuR7thtrVVA"
   },
   "source": [
    "#### Задача 5. \n",
    "\n",
    "Пользователь вводит целые (не обязательно положительные) числа (одно за другим, пока не введет слово вместо числа). Программа должна вывести самое большое введенное число. Списками пользоваться нельзя."
   ]
  },
  {
   "cell_type": "code",
   "execution_count": 6,
   "id": "84708216-b8a8-44ab-87ff-f3b8a8d08e96",
   "metadata": {
    "id": "5PFWjAunrdw5"
   },
   "outputs": [
    {
     "name": "stdout",
     "output_type": "stream",
     "text": [
      "53\n"
     ]
    }
   ],
   "source": [
    "n = input('Введите целое чило: ')\n",
    "maxi = float(n)\n",
    "while n.isdigit():\n",
    "    if float(maxi) < float(n):\n",
    "        maxi = float(n)\n",
    "    n = input('Введите целое чило: ')\n",
    "print(round(maxi))"
   ]
  }
 ],
 "metadata": {
  "kernelspec": {
   "display_name": "Python 3",
   "language": "python",
   "name": "python3"
  },
  "language_info": {
   "codemirror_mode": {
    "name": "ipython",
    "version": 3
   },
   "file_extension": ".py",
   "mimetype": "text/x-python",
   "name": "python",
   "nbconvert_exporter": "python",
   "pygments_lexer": "ipython3",
   "version": "3.11.9"
  }
 },
 "nbformat": 4,
 "nbformat_minor": 5
}
