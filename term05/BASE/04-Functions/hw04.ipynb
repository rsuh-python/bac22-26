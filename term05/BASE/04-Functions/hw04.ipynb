{
 "cells": [
  {
   "cell_type": "markdown",
   "id": "fb0eb8fc-2ec3-404e-bd49-bb194ab99d36",
   "metadata": {
    "id": "rkhg0KaxbgUl"
   },
   "source": [
    "#### Задача 1. \n",
    "\n",
    "Напишите функцию, которая делает то же, что функция в семинарской задаче 1, но используйте рекурсию."
   ]
  },
  {
   "cell_type": "code",
   "execution_count": 3,
   "id": "f94da827-50f3-4bd9-82c5-c6913681f285",
   "metadata": {
    "id": "ufWyhdbGbjqU"
   },
   "outputs": [
    {
     "name": "stdout",
     "output_type": "stream",
     "text": [
      "3 ** 4 = 81\n"
     ]
    }
   ],
   "source": [
    "# Напишите функцию, которая принимает два целых числа a и b и возвращает результат возведения \n",
    "# в степень a ** b, только оператором ** пользоваться нельзя, нужно сделать это в цикле!\n",
    "def exp(a, b):\n",
    "    if b == 0:\n",
    "        return 1\n",
    "    b -= 1\n",
    "    total = a * exp(a, b)\n",
    "    return total\n",
    "\n",
    "a, b = int(input('')), int(input(''))\n",
    "print(f'{a} ** {b} = {exp(a, b)}')"
   ]
  },
  {
   "cell_type": "markdown",
   "id": "0f66f844-8d9e-4cd5-83bd-f5c73e0d6ad5",
   "metadata": {
    "id": "A-OsgpSsbkBM"
   },
   "source": [
    "#### Задача 2. \n",
    "\n",
    "Напишите функцию, которая выводит таблицу умножения. Отформатируйте вывод таким образом, чтобы образовалась сеточка из чисел:\n",
    "\n",
    "    1 2 3 4  5\n",
    "    2 4 6 8 10\n",
    "    ...\n",
    "\n",
    "(Мы с вами подобное уже, кажется, делали, теперь достаточно оформить именно в функцию, чтобы можно было рисовать сеточку не до 9, а до такого числа, какое мы в функцию передадим). "
   ]
  },
  {
   "cell_type": "code",
   "execution_count": 7,
   "id": "dfedf943-0edb-457d-9f5d-7c04f0c1e133",
   "metadata": {
    "id": "QcVBpNacb3S8"
   },
   "outputs": [
    {
     "name": "stdout",
     "output_type": "stream",
     "text": [
      "1\t2\t3\t4\t5\t6\t7\t8\t9\t\n",
      "2\t4\t6\t8\t10\t12\t14\t16\t18\t\n",
      "3\t6\t9\t12\t15\t18\t21\t24\t27\t\n",
      "4\t8\t12\t16\t20\t24\t28\t32\t36\t\n",
      "5\t10\t15\t20\t25\t30\t35\t40\t45\t\n",
      "6\t12\t18\t24\t30\t36\t42\t48\t54\t\n",
      "7\t14\t21\t28\t35\t42\t49\t56\t63\t\n",
      "8\t16\t24\t32\t40\t48\t56\t64\t72\t\n",
      "9\t18\t27\t36\t45\t54\t63\t72\t81\t\n"
     ]
    }
   ],
   "source": [
    "def mult_table(x):\n",
    "    for row in range(1, x + 1):\n",
    "        for num in range(1, x + 1):\n",
    "            print(row * num, end='\\t')\n",
    "        print()\n",
    "\n",
    "number = int(input('Введите число: '))\n",
    "mult_table(number)"
   ]
  },
  {
   "cell_type": "markdown",
   "id": "137562ee-4f17-464f-a1a6-1b392ef030c2",
   "metadata": {
    "id": "TMLSOYfLb3vj"
   },
   "source": [
    "#### Задача 3. \n",
    "\n",
    "Напишите функцию, которая будет принимать числа a и b, делить их и выводить ответ в формате a / b = c, при этом число c должно быть округлено до двух знаков после запятой. Если знаете варианты, как это можно сделать, напишите варианты."
   ]
  },
  {
   "cell_type": "code",
   "execution_count": 8,
   "id": "3ea74a52-0156-4d38-a6c3-0861dd912af5",
   "metadata": {
    "id": "lL2OF1Mbb68D"
   },
   "outputs": [
    {
     "name": "stdout",
     "output_type": "stream",
     "text": [
      "7 / 3 = 2.33\n"
     ]
    }
   ],
   "source": [
    "def func3(a, b):\n",
    "    print(f'{a} / {b} = {round(a / b, 2)}')\n",
    "\n",
    "a, b = int(input('Введите число a')), int(input('Введите число b'))\n",
    "func3(a, b)"
   ]
  },
  {
   "cell_type": "markdown",
   "id": "5e19557e-685a-4d30-bba8-291401f65f3a",
   "metadata": {
    "id": "owMhp22Jb7Qs"
   },
   "source": [
    "#### Задача 4. \n",
    "\n",
    "Напишите функцию для подсчета букв в слове: пользователь вводит какую-то строку, а функция должна в форматированном виде вывести, сколько раз встретилась та или иная буква, например:\n",
    "\n",
    "    >>> 'ABBYY'\n",
    "    'A': 1\n",
    "    'B': 2\n",
    "    'Y': 2"
   ]
  },
  {
   "cell_type": "code",
   "execution_count": null,
   "id": "b246a976-ceba-4e83-aa53-c2e1ebcadafd",
   "metadata": {
    "id": "Lnufy8wscBWc"
   },
   "outputs": [
    {
     "name": "stdout",
     "output_type": "stream",
     "text": [
      "ABBYY\n",
      "A: 1\n",
      "B: 2\n",
      "Y: 2\n"
     ]
    }
   ],
   "source": [
    "#сначала первое что пришло мне в голову, это сделать словарь\n",
    "def count_letters2(text):\n",
    "    print(text)\n",
    "    data = dict()\n",
    "    for sym in text:\n",
    "        if sym in data:\n",
    "            data[sym] += 1\n",
    "        else:\n",
    "            data[sym] = 1\n",
    "    for sym, amount in data.items():\n",
    "        print(f'{sym}: {amount}')\n",
    "\n",
    "user_text = input()\n",
    "count_letters2(user_text)"
   ]
  },
  {
   "cell_type": "code",
   "execution_count": null,
   "id": "ed2a19f8",
   "metadata": {},
   "outputs": [
    {
     "name": "stdout",
     "output_type": "stream",
     "text": [
      "ABBYY\n",
      "A: 1\n",
      "B: 2\n",
      "Y: 2\n"
     ]
    }
   ],
   "source": [
    "#а потом я подумала, как бы обойтись без словаря, и дошло\n",
    "def count_letters(text):\n",
    "    print(text)\n",
    "    data = ''\n",
    "    for sym in text:\n",
    "        if sym not in data:\n",
    "            data += sym\n",
    "    for sym in data:\n",
    "        print(f'{sym}: {text.count(sym)}')\n",
    "\n",
    "user_text = input()\n",
    "count_letters(user_text)"
   ]
  }
 ],
 "metadata": {
  "kernelspec": {
   "display_name": "Python 3",
   "language": "python",
   "name": "python3"
  },
  "language_info": {
   "codemirror_mode": {
    "name": "ipython",
    "version": 3
   },
   "file_extension": ".py",
   "mimetype": "text/x-python",
   "name": "python",
   "nbconvert_exporter": "python",
   "pygments_lexer": "ipython3",
   "version": "3.11.9"
  }
 },
 "nbformat": 4,
 "nbformat_minor": 5
}
