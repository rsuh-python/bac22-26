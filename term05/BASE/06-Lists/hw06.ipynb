{
 "cells": [
  {
   "cell_type": "markdown",
   "id": "e1ee0103-8200-46e7-8368-3f810345ce0b",
   "metadata": {
    "id": "8Cp2cJyqyFwN"
   },
   "source": [
    "#### Задача 1. \n",
    "\n",
    "Дан список. Выведите те его элементы, которые встречаются в списке только два раза. Элементы нужно выводить в том порядке, в котором их первые вхождения встречаются в списке, например:\n",
    "\n",
    "    1 1 2 3 2 3 => 1 2 3"
   ]
  },
  {
   "cell_type": "code",
   "execution_count": 5,
   "id": "91ded2e2-3a86-4434-b6f9-2b087cd12bf4",
   "metadata": {
    "id": "atX5rZWryKnF"
   },
   "outputs": [
    {
     "name": "stdout",
     "output_type": "stream",
     "text": [
      "list: [3, 4, 3, 3, 2, 4, 1, 1, 3, 3]\n",
      "4 1 "
     ]
    }
   ],
   "source": [
    "import random\n",
    "data = [random.randint(1, 5) for _ in range(10)]\n",
    "print('list:', data)\n",
    "uniq_el = list()\n",
    "for el in data:\n",
    "    if el not in uniq_el:\n",
    "        uniq_el.append(el)\n",
    "\n",
    "for i in uniq_el:\n",
    "    if data.count(i) == 2:\n",
    "        print(i, end=' ')"
   ]
  },
  {
   "cell_type": "markdown",
   "id": "1d0d7d13-df9a-4070-9154-02585efa6bf1",
   "metadata": {
    "id": "OMWL7WhGyOPU"
   },
   "source": [
    "#### Задача 2. \n",
    "\n",
    "Дан список слов, в некоторых словах есть буква ё. Нужно отсортировать список так, чтобы буква ё сортировалась по алфавиту. \n",
    "\n",
    "Подсказка: можно либо воспользоваться номерами юникода и сортировкой списков из чисел, либо заменять все буквы, которые идут после е, на что-нибудь еще. "
   ]
  },
  {
   "cell_type": "code",
   "execution_count": 63,
   "id": "77db53c1-93c9-4417-97da-fa26ce20e948",
   "metadata": {
    "id": "wP3CLC7fydll"
   },
   "outputs": [
    {
     "name": "stdout",
     "output_type": "stream",
     "text": [
      "['торт', 'метёлка', 'зело', 'метро', 'мебель', 'йогурт', 'зелёнка', 'зелень', 'ёжик', 'ложка', 'порт', 'рыба', 'абрикос']\n",
      "['абрикос', 'ёжик', 'зелень', 'зелёнка', 'зело', 'йогурт', 'ложка', 'мебель', 'метёлка', 'метро', 'порт', 'рыба', 'торт']\n"
     ]
    }
   ],
   "source": [
    "def letter_e(data):    \n",
    "    base = list()\n",
    "    for index, word in enumerate(data):\n",
    "        if 'ё' in word:\n",
    "            base.append(index)\n",
    "    return base\n",
    "\n",
    "\n",
    "def sort_with_e(data, ind_e):\n",
    "    for i in ind_e:\n",
    "        curr_w = data[i]\n",
    "        prec_w = data[i - 1]\n",
    "        e_ind = curr_w.find('ё')\n",
    "        while ord(prec_w[e_ind]) > ord('е') and curr_w[:e_ind] == prec_w[:e_ind]:\n",
    "            data[i - 1], data[i] = data[i], data[i - 1]\n",
    "            i -= 1\n",
    "            prec_w = data[i - 1]\n",
    "        if e_ind == 0:\n",
    "            while ord(prec_w[e_ind]) > ord('е'):\n",
    "                data[i - 1], data[i] = data[i], data[i - 1]\n",
    "                i -= 1\n",
    "                prec_w = data[i - 1]\n",
    "    return data\n",
    "\n",
    "data = ['торт', 'метёлка', 'зело', 'метро', 'мебель', 'йогурт', 'зелёнка', 'зелень', 'ёжик', 'ложка', 'порт', 'рыба', 'абрикос']\n",
    "print(data)\n",
    "data.sort()\n",
    "ind_spec_words = letter_e(data)\n",
    "# print(data)\n",
    "# print(ind_spec_words)\n",
    "new_data = sort_with_e(data, ind_spec_words)\n",
    "print(new_data)"
   ]
  },
  {
   "cell_type": "markdown",
   "id": "1e6d91cb-8540-4458-beaf-f616ca6f25b3",
   "metadata": {
    "id": "jStKjwzrywyt"
   },
   "source": [
    "#### Задача 3. \n",
    "\n",
    "Дан список слов. Упорядочьте его в обратном лексикографическом порядке, как в словаре Зализняка. "
   ]
  },
  {
   "cell_type": "code",
   "execution_count": 65,
   "id": "182a0204-f099-4f0c-903b-7489af4bfbcc",
   "metadata": {
    "id": "o8b2bNIKy5bV"
   },
   "outputs": [
    {
     "name": "stdout",
     "output_type": "stream",
     "text": [
      "['торт', 'метёлка', 'зело', 'метро', 'мебель', 'йогурт', 'зелёнка', 'зелень', 'ёжик', 'ложка', 'порт', 'рыба', 'абрикос']\n",
      "рыба\n",
      "ложка\n",
      "метёлка\n",
      "зелёнка\n",
      "ёжик\n",
      "зело\n",
      "метро\n",
      "абрикос\n",
      "порт\n",
      "торт\n",
      "йогурт\n",
      "мебель\n",
      "зелень\n"
     ]
    }
   ],
   "source": [
    "def rev_list(data):\n",
    "    for ind, word in enumerate(data):\n",
    "        data[ind] = ''.join(reversed(word))\n",
    "\n",
    "\n",
    "data = ['торт', 'метёлка', 'зело', 'метро', 'мебель', 'йогурт', 'зелёнка', 'зелень', 'ёжик', 'ложка', 'порт', 'рыба', 'абрикос']\n",
    "print(data)\n",
    "rev_list(data)\n",
    "# print(data)\n",
    "data.sort()\n",
    "# print(data)\n",
    "ind_spec_words = letter_e(data)\n",
    "# print(data)\n",
    "# print(ind_spec_words)\n",
    "sort_with_e(data, ind_spec_words)\n",
    "# print(data)\n",
    "rev_list(data)\n",
    "for el in data:\n",
    "    print(el)"
   ]
  },
  {
   "cell_type": "markdown",
   "id": "1f2109b5-d4f1-4959-83cd-70ed5f6867ac",
   "metadata": {
    "id": "txNZD5Jny4xd"
   },
   "source": [
    "#### Задача 4. \n",
    "\n",
    "Вводится список чисел, а потом число Х. Удалите из списка все элементы, которые встретились Х раз. "
   ]
  },
  {
   "cell_type": "code",
   "execution_count": null,
   "id": "2f6c0141-32e0-4acf-9758-3b1294b1f693",
   "metadata": {
    "id": "ceEIBfH7zFwN"
   },
   "outputs": [
    {
     "name": "stdout",
     "output_type": "stream",
     "text": [
      "list: [4, 4, 2, 2, 1, 4, 1, 1, 6, 5, 5, 2, 4, 1, 6]\n",
      "[4, 2, 1, 6, 5]\n",
      "[4, 4, 1, 4, 1, 1, 6, 5, 5, 4, 1, 6]\n"
     ]
    }
   ],
   "source": [
    "import random\n",
    "data = [random.randint(1, 7) for _ in range(15)]\n",
    "print('list:', data)\n",
    "user_num = int(input())\n",
    "uniq_el = list()\n",
    "for el in data:\n",
    "    if el not in uniq_el:\n",
    "        uniq_el.append(el)\n",
    "# print(uniq_el)\n",
    "\n",
    "for sym in uniq_el:\n",
    "    if data.count(sym) == user_num:\n",
    "        while sym in data:\n",
    "            data.remove(sym)\n",
    "print(data)"
   ]
  }
 ],
 "metadata": {
  "kernelspec": {
   "display_name": "Python 3",
   "language": "python",
   "name": "python3"
  },
  "language_info": {
   "codemirror_mode": {
    "name": "ipython",
    "version": 3
   },
   "file_extension": ".py",
   "mimetype": "text/x-python",
   "name": "python",
   "nbconvert_exporter": "python",
   "pygments_lexer": "ipython3",
   "version": "3.11.9"
  }
 },
 "nbformat": 4,
 "nbformat_minor": 5
}
