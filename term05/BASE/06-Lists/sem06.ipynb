{
 "cells": [
  {
   "cell_type": "markdown",
   "id": "90517b82-874d-4b1a-b728-c1e8039934b3",
   "metadata": {
    "id": "kQHqKRUdtkl4"
   },
   "source": [
    "### Примеры\n",
    "\n",
    "#### 1\n",
    "\n",
    "Пользователь вводит числа и буквы через пробел в одной строке. Нужно собрать список, в котором будут квадраты введенных чисел. "
   ]
  },
  {
   "cell_type": "code",
   "execution_count": null,
   "id": "f48b0c0e-f925-4342-a119-3f6eea004cb8",
   "metadata": {
    "colab": {
     "base_uri": "https://localhost:8080/"
    },
    "executionInfo": {
     "elapsed": 3055,
     "status": "ok",
     "timestamp": 1669124781994,
     "user": {
      "displayName": "Alexandra Ivoilova",
      "userId": "03566560446750535462"
     },
     "user_tz": -180
    },
    "id": "R9GKIrIetiYO",
    "outputId": "d230f563-f4cb-4898-a195-1f2246b7f6d5"
   },
   "outputs": [],
   "source": [
    "# my code here"
   ]
  },
  {
   "cell_type": "markdown",
   "id": "6ae35ec5-b26a-4123-9ae6-1de3347ff633",
   "metadata": {
    "id": "EotjGtSIvgvu"
   },
   "source": [
    "#### 2\n",
    "\n",
    "У нас есть список чисел. Нужно посчитать их сумму."
   ]
  },
  {
   "cell_type": "code",
   "execution_count": null,
   "id": "c66ee98f-1004-45c0-b2d5-1086fcacb16a",
   "metadata": {
    "colab": {
     "base_uri": "https://localhost:8080/"
    },
    "executionInfo": {
     "elapsed": 4259,
     "status": "ok",
     "timestamp": 1669124866063,
     "user": {
      "displayName": "Alexandra Ivoilova",
      "userId": "03566560446750535462"
     },
     "user_tz": -180
    },
    "id": "sjZOriZdvk8n",
    "outputId": "c4269b89-824b-4696-9b17-3dff644c1ba2"
   },
   "outputs": [],
   "source": [
    "# my code here"
   ]
  },
  {
   "cell_type": "markdown",
   "id": "d84bed4e-17ae-4af1-a0e7-cd92b9ae6411",
   "metadata": {
    "id": "RRkL2riKuO-g"
   },
   "source": [
    "#### 3\n",
    "\n",
    "У нас есть заданный любым способом список чисел. Пользователь вводит новое число. Нужно добавить это число на 3 место в списке. "
   ]
  },
  {
   "cell_type": "code",
   "execution_count": null,
   "id": "ce0d3447-fe89-4618-9279-64b84247a541",
   "metadata": {
    "colab": {
     "base_uri": "https://localhost:8080/"
    },
    "executionInfo": {
     "elapsed": 5116,
     "status": "ok",
     "timestamp": 1669124915312,
     "user": {
      "displayName": "Alexandra Ivoilova",
      "userId": "03566560446750535462"
     },
     "user_tz": -180
    },
    "id": "Z5hmAhwzumh5",
    "outputId": "839421f6-24a4-48e9-e374-67b866a21ca8"
   },
   "outputs": [],
   "source": [
    "# my code here"
   ]
  },
  {
   "cell_type": "markdown",
   "id": "0a32472d-d7fc-4159-ac85-ad2a7d6ec87d",
   "metadata": {
    "id": "1YOhrtGIunzx"
   },
   "source": [
    "#### 4\n",
    "\n",
    "Пользователь вводит какой-то текст в одной строке. Нужно посчитать, сколько в этом тексте слов. "
   ]
  },
  {
   "cell_type": "code",
   "execution_count": null,
   "id": "8c0e2728-517e-434f-a6c1-5bfb8a6b9fba",
   "metadata": {
    "colab": {
     "base_uri": "https://localhost:8080/"
    },
    "executionInfo": {
     "elapsed": 3739,
     "status": "ok",
     "timestamp": 1669125003896,
     "user": {
      "displayName": "Alexandra Ivoilova",
      "userId": "03566560446750535462"
     },
     "user_tz": -180
    },
    "id": "E3NmF9xuu2Q_",
    "outputId": "09627178-5169-4cff-91f8-415e007ae2e0"
   },
   "outputs": [],
   "source": [
    "# my code here"
   ]
  },
  {
   "cell_type": "markdown",
   "id": "19b80e37-7883-4834-81e4-545a62499c19",
   "metadata": {
    "id": "NoNgVstnu3x2"
   },
   "source": [
    "#### 5\n",
    "\n",
    "Пользователь сперва вводит несколько фамилий через пробел, а потом в таком же порядке несколько дат рождения. Нужно составить из этого один список с кортежами вида \"фамилия - дата рождения\". "
   ]
  },
  {
   "cell_type": "code",
   "execution_count": null,
   "id": "19c05894-9ef5-410c-af65-9b045439b48b",
   "metadata": {
    "id": "1X8JVQ-uvPpP"
   },
   "outputs": [],
   "source": [
    "# my code here"
   ]
  },
  {
   "cell_type": "markdown",
   "id": "75947b4f-c2f6-409c-b4e8-32142fa2683b",
   "metadata": {
    "id": "UEnlHhezvRw-"
   },
   "source": [
    "#### 6\n",
    "\n",
    "Вводится список слов через пробелы. Нужно вывести только такие слова, которые встретились в списке один раз. "
   ]
  },
  {
   "cell_type": "code",
   "execution_count": null,
   "id": "60a1caf0-99ec-4e9e-a74c-84c6164f371a",
   "metadata": {
    "colab": {
     "base_uri": "https://localhost:8080/"
    },
    "executionInfo": {
     "elapsed": 6230,
     "status": "ok",
     "timestamp": 1669125201524,
     "user": {
      "displayName": "Alexandra Ivoilova",
      "userId": "03566560446750535462"
     },
     "user_tz": -180
    },
    "id": "qyNfwMsnvS3X",
    "outputId": "d9915eac-29bf-4dca-9e01-81a9972ec562"
   },
   "outputs": [],
   "source": [
    "# my code here"
   ]
  },
  {
   "cell_type": "markdown",
   "id": "c94d7dc5-b0ae-44f6-914e-971a9e2d26ec",
   "metadata": {
    "id": "oMfPpXjPv4bF"
   },
   "source": [
    "#### 7\n",
    "\n",
    "Вводится список слов. Нужно отсортировать слова в зависимости от того, сколько раз в слове встретилась буква \"а\". "
   ]
  },
  {
   "cell_type": "code",
   "execution_count": null,
   "id": "11a3a1c2-bfb0-4c04-8a4c-ed3cb397a6d3",
   "metadata": {
    "colab": {
     "base_uri": "https://localhost:8080/"
    },
    "executionInfo": {
     "elapsed": 1863,
     "status": "ok",
     "timestamp": 1669125398977,
     "user": {
      "displayName": "Alexandra Ivoilova",
      "userId": "03566560446750535462"
     },
     "user_tz": -180
    },
    "id": "NxsYiT_Xv95m",
    "outputId": "28b2d7b7-e863-4342-acc7-65a134cace28"
   },
   "outputs": [],
   "source": [
    "# my code here"
   ]
  },
  {
   "cell_type": "markdown",
   "id": "99cfb265-3f8f-43b1-94df-0b276575b9e3",
   "metadata": {
    "id": "IU7CQXohxw5n"
   },
   "source": [
    "#### 8\n",
    "\n",
    "Дан список чисел. Нужно к каждому нечетному элементу в списке добавить каждый следующий за ним четный элемент. "
   ]
  },
  {
   "cell_type": "code",
   "execution_count": null,
   "id": "7b330a48-e399-4745-9e27-fb0eeb8ba4cc",
   "metadata": {
    "colab": {
     "base_uri": "https://localhost:8080/"
    },
    "executionInfo": {
     "elapsed": 3580,
     "status": "ok",
     "timestamp": 1669125603221,
     "user": {
      "displayName": "Alexandra Ivoilova",
      "userId": "03566560446750535462"
     },
     "user_tz": -180
    },
    "id": "UZBCc3Yfx9re",
    "outputId": "be8b1778-4f61-4c50-a895-b43b15ca0321"
   },
   "outputs": [],
   "source": [
    "# my code here"
   ]
  },
  {
   "cell_type": "markdown",
   "id": "8d7fd318-1142-4cba-8649-c50e0ab2bdc6",
   "metadata": {
    "id": "nK3deqcUx_y1"
   },
   "source": [
    "#### 9\n",
    "\n",
    "Дан список чисел. Нужно из него удалить все нечетные. "
   ]
  },
  {
   "cell_type": "code",
   "execution_count": null,
   "id": "e4f5dc74-79c7-4e17-b7c3-ed1cd82db3ad",
   "metadata": {
    "colab": {
     "base_uri": "https://localhost:8080/"
    },
    "executionInfo": {
     "elapsed": 3836,
     "status": "ok",
     "timestamp": 1669126040088,
     "user": {
      "displayName": "Alexandra Ivoilova",
      "userId": "03566560446750535462"
     },
     "user_tz": -180
    },
    "id": "4pQlgXQeyDPV",
    "outputId": "21ace9cd-2fc3-4e2e-bd43-d5af06c30a46"
   },
   "outputs": [],
   "source": [
    "# my code here"
   ]
  },
  {
   "cell_type": "markdown",
   "id": "c1472b37-1a54-461b-bdbc-aa297ebd2ccf",
   "metadata": {
    "id": "iOPSfBnbwAyG"
   },
   "source": [
    "### Задачи\n",
    "\n",
    "#### Задача 1. \n",
    "\n",
    "Пользователь вводит числа и слова через пробел. Соберите список только из слов."
   ]
  },
  {
   "cell_type": "code",
   "execution_count": null,
   "id": "213e1afa-e60a-4506-888e-343c7151d209",
   "metadata": {
    "id": "hpDhd_6qwWu-"
   },
   "outputs": [
    {
     "name": "stdout",
     "output_type": "stream",
     "text": [
      "['gagner', 'open', 'kedi']\n"
     ]
    }
   ],
   "source": [
    "user_text = input().split()\n",
    "res = [x for x in user_text if x.isalpha()]\n",
    "print(res)"
   ]
  },
  {
   "cell_type": "markdown",
   "id": "8b0d3771-d380-4e48-8429-578fe1613c0e",
   "metadata": {
    "id": "rgzd97tKwYJH"
   },
   "source": [
    "#### Задача 2. \n",
    "\n",
    "Пользователь вводит через пробел числа и (возможно) какие-то другие символы. Соберите из этого список только из чисел, посчитайте его среднее арифметическое (сумма / длина)"
   ]
  },
  {
   "cell_type": "code",
   "execution_count": 6,
   "id": "076e6c38-1e33-4d8f-ac6c-739f6b2919d4",
   "metadata": {
    "id": "4jfVZkL6wkH2"
   },
   "outputs": [
    {
     "name": "stdout",
     "output_type": "stream",
     "text": [
      "[32, 20, 14]\n",
      "22.0\n"
     ]
    }
   ],
   "source": [
    "user_text = input().split()\n",
    "res = [int(x) for x in user_text if x.isdigit()]\n",
    "print(res)\n",
    "total = sum(res) / len(res)\n",
    "print(total)"
   ]
  },
  {
   "cell_type": "markdown",
   "id": "50957845-ad47-4212-b8ef-cb4a5ab9546d",
   "metadata": {
    "id": "1YMJPPhgwlmu"
   },
   "source": [
    "#### Задача 3. \n",
    "\n",
    "Петя перешёл в другую школу. На уроке физкультуры ему понадобилось определить своё место в строю. Помогите ему это сделать.\n",
    "\n",
    "Программа получает на вход отсортированную по убыванию последовательность натуральных чисел, означающих рост каждого человека в строю. После этого вводится число X – рост Пети. Все числа во входных данных натуральные и не превышают 200."
   ]
  },
  {
   "cell_type": "code",
   "execution_count": null,
   "id": "411cb679-5098-4bbd-9e49-ea2f61ebecef",
   "metadata": {
    "id": "bPpgIcd6w7wy"
   },
   "outputs": [
    {
     "name": "stdout",
     "output_type": "stream",
     "text": [
      "all_st: [196, 192, 189, 175, 170, 168]\n",
      "5\n"
     ]
    }
   ],
   "source": [
    "all_st = input('').split()\n",
    "all_st = [int(x) for x in all_st]\n",
    "all_st.sort(reverse=True)\n",
    "print(f'all_st: {all_st}')\n",
    "petya_height = int(input(''))\n",
    "for ind, stu in enumerate(all_st):\n",
    "    if stu == petya_height or stu < petya_height:\n",
    "        print(ind + 1)\n",
    "        break"
   ]
  },
  {
   "cell_type": "markdown",
   "id": "48692b43-4429-403c-97e6-a12b2d8c1914",
   "metadata": {
    "id": "imtWlFkWw9C7"
   },
   "source": [
    "#### Задача 4. \n",
    "\n",
    "Пользователь вводит строку. Удалите из этой строки все лишние пробелы, воспользовавшись методами split() и join(). "
   ]
  },
  {
   "cell_type": "code",
   "execution_count": null,
   "id": "3daf60c8-04fd-468c-8aed-71ceccf815bf",
   "metadata": {
    "id": "h3eQHvDRxF-2"
   },
   "outputs": [
    {
     "name": "stdout",
     "output_type": "stream",
     "text": [
      "ss ss ghjk rfghjkl dfgh\n"
     ]
    }
   ],
   "source": [
    "user_text = input().split()\n",
    "print(' '.join(user_text))"
   ]
  },
  {
   "cell_type": "markdown",
   "id": "a67ed58a-652e-4051-baab-54c16a8c34d3",
   "metadata": {
    "id": "5uXJ5utWxHR1"
   },
   "source": [
    "#### Задача 5. \n",
    "\n",
    "Пользователь вводит список из слов. Поменяйте в этом списке все слова попарно местами, так, чтобы получилось:\n",
    "\n",
    "    денег нет но вы держитесь => нет денег вы но держитесь\n",
    "    карл у клары украл кларнет => у карл украл клары кларнет\n",
    "    милые котики теплые животики => котики милые животики теплые"
   ]
  },
  {
   "cell_type": "code",
   "execution_count": 15,
   "id": "20071b16-ee04-4895-a8de-b2505ee94865",
   "metadata": {
    "id": "giuxMASrxuQ1"
   },
   "outputs": [
    {
     "name": "stdout",
     "output_type": "stream",
     "text": [
      "нет денег вы но держитесь \n"
     ]
    }
   ],
   "source": [
    "user_text = input().split()\n",
    "new_text = ''\n",
    "for i in range(len(user_text)):\n",
    "    if i % 2:\n",
    "        new_text += user_text[i - 1]\n",
    "    else:\n",
    "        if i + 1 == len(user_text):\n",
    "            i -= 1\n",
    "        new_text += user_text[i + 1]\n",
    "    new_text += ' '\n",
    "print(new_text)"
   ]
  },
  {
   "cell_type": "markdown",
   "id": "da1962a6-83ca-440c-bfa2-984ff9c137aa",
   "metadata": {},
   "source": [
    "#### Задача 6. \n",
    "\n",
    "Дан список (можно задать его любым способом, из чего он состоит - тоже в целом неважно). Пользователь решает удалить из этого списка все вхождения элемента Х. Напишите скрипт, который будет это делать, попробуйте решить задачу двумя способами: создав новый список или изменив существующий."
   ]
  },
  {
   "cell_type": "code",
   "execution_count": 17,
   "id": "41825245-ce6a-4746-b0ff-50cf981f4503",
   "metadata": {
    "id": "giuxMASrxuQ1"
   },
   "outputs": [
    {
     "name": "stdout",
     "output_type": "stream",
     "text": [
      "['s', 'i', 's', 't', 'e', 'r', 'm', 'o', 't', 'h', 'e', 'r', 'f', 'a', 't', 'h', 'e', 'r']\n",
      "['s', 'i', 's', 'e', 'r', 'm', 'o', 'h', 'e', 'r', 'f', 'a', 'h', 'e', 'r']\n",
      "['s', 'i', 's', 'e', 'r', 'm', 'o', 'h', 'e', 'r', 'f', 'a', 'h', 'e', 'r']\n"
     ]
    }
   ],
   "source": [
    "user_list = input().split()\n",
    "print(user_list)\n",
    "el_del = input('to delete: ')\n",
    "new_el = [x for x in user_list if x != el_del]\n",
    "print(new_el)\n",
    "while el_del in user_list:\n",
    "    user_list.remove(el_del)\n",
    "print(user_list)"
   ]
  },
  {
   "cell_type": "markdown",
   "id": "8296cc03-d2b5-40ee-88af-2a03c3c6d0c2",
   "metadata": {},
   "source": [
    "#### Задача 7. \n",
    "\n",
    "Дан список кортежей, причем в каждом кортеже первый элемент - некое слово, а второй - число. Отсортируйте список таким образом, чтобы кортежи упорядочились по числам в убывающем порядке, но при этом если два числа совпадают, то слова должны сортироваться по алфавиту, то есть:\n",
    "\n",
    "    \n",
    "    [('елка', 2),\n",
    "    ('арбуз', 2),\n",
    "    ('котик', 1),\n",
    "    ('вася', 1),\n",
    "    ('мама', 3),\n",
    "    ('папа', 3)]\n",
    "    \n",
    "    должен превратиться в \n",
    "    \n",
    "    [('мама', 3),\n",
    "    ('папа', 3),\n",
    "    ('арбуз', 2),\n",
    "    ('елка', 2),\n",
    "    ('вася', 1),\n",
    "    ('котик', 1)]"
   ]
  },
  {
   "cell_type": "code",
   "execution_count": 36,
   "id": "d6250125-f01a-4ffb-b878-cca6084d9321",
   "metadata": {
    "id": "giuxMASrxuQ1"
   },
   "outputs": [
    {
     "name": "stdout",
     "output_type": "stream",
     "text": [
      "[('мама', 3), ('папа', 3), ('арбуз', 2), ('елка', 2), ('вася', 1), ('котик', 1)]\n"
     ]
    }
   ],
   "source": [
    "def sort_eq(meh):\n",
    "    if not meh:\n",
    "        return meh\n",
    "    max_el, eq_el, min_el = list(), list(), list()\n",
    "    elem = meh[len(meh) - 1]\n",
    "    for el in meh:\n",
    "        if el[0] > elem[0]:\n",
    "            max_el.append(el)\n",
    "        elif el[0] == elem[0]:\n",
    "            eq_el.append(el)\n",
    "        else:\n",
    "            min_el.append(el)\n",
    "    return min_el + eq_el + max_el\n",
    "\n",
    "\n",
    "def sort_list(meh):\n",
    "    elem = meh[len(meh) - 1]\n",
    "    min_li = list()\n",
    "    equal_li = list()\n",
    "    max_li = list()\n",
    "    for el in meh:\n",
    "        if el[1] > elem[1]:\n",
    "            max_li.append(el)\n",
    "        elif el[1] < elem[1]:\n",
    "            min_li.append(el)\n",
    "        else:\n",
    "            equal_li.append(el)\n",
    "    return min_li, sort_eq(equal_li), max_li\n",
    "\n",
    "\n",
    "def quick_sort(inf):\n",
    "    if not inf:\n",
    "        return inf\n",
    "    min_l, equal_l, max_l = sort_list(inf)\n",
    "    min_l = quick_sort(min_l)\n",
    "    max_l = quick_sort(max_l)\n",
    "    total = max_l + equal_l + min_l\n",
    "    return total\n",
    "\n",
    "\n",
    "data = [('елка', 2),\n",
    "    ('арбуз', 2),\n",
    "    ('котик', 1),\n",
    "    ('вася', 1),\n",
    "    ('мама', 3),\n",
    "    ('папа', 3)]\n",
    "\n",
    "resi = quick_sort(data)\n",
    "print(resi)\n"
   ]
  },
  {
   "cell_type": "markdown",
   "id": "caee2455-84d0-4d6a-8f4c-4c46e21f7a37",
   "metadata": {},
   "source": [
    "#### Задача 8. \n",
    "\n",
    "Дан список кортежей такого же вида, как в задаче 7 (слово - число). Соберите из этого списка два новых списка, где в первом - только слова, а во втором - только числа. "
   ]
  },
  {
   "cell_type": "code",
   "execution_count": 37,
   "id": "3249be6e-fed3-4945-b9d0-82623d712456",
   "metadata": {
    "id": "giuxMASrxuQ1"
   },
   "outputs": [
    {
     "name": "stdout",
     "output_type": "stream",
     "text": [
      "[2, 2, 1, 1, 3, 3]\n",
      "['елка', 'арбуз', 'котик', 'вася', 'мама', 'папа']\n"
     ]
    }
   ],
   "source": [
    "bata = [('елка', 2),\n",
    "    ('арбуз', 2),\n",
    "    ('котик', 1),\n",
    "    ('вася', 1),\n",
    "    ('мама', 3),\n",
    "    ('папа', 3)]\n",
    "\n",
    "digit_list = [x[1] for x in bata]\n",
    "letter_list = [x[0] for x in data]\n",
    "print(digit_list)\n",
    "print(letter_list)"
   ]
  }
 ],
 "metadata": {
  "kernelspec": {
   "display_name": "Python 3",
   "language": "python",
   "name": "python3"
  },
  "language_info": {
   "codemirror_mode": {
    "name": "ipython",
    "version": 3
   },
   "file_extension": ".py",
   "mimetype": "text/x-python",
   "name": "python",
   "nbconvert_exporter": "python",
   "pygments_lexer": "ipython3",
   "version": "3.11.9"
  }
 },
 "nbformat": 4,
 "nbformat_minor": 5
}
