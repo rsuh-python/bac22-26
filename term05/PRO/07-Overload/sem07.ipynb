{
 "cells": [
  {
   "cell_type": "markdown",
   "id": "8797b85f-44e6-4d7f-a2fe-f129e6424b2b",
   "metadata": {},
   "source": [
    "#### Задача 1. \n",
    "\n",
    "Представим себе, что у нас уже написана некоторая часть игрушки в стиле DnD, где главный персонаж ходит по карте и сражается с монстрами. Наша текущая задача - написать класс \"Рюкзак\", экземпляр которого будет выдаваться каждому персонажу. У персонажей должна быть возможность перебирать содержимое своего рюкзака. "
   ]
  },
  {
   "cell_type": "code",
   "execution_count": null,
   "id": "a0329ed6-8f81-44c2-92b5-9907d2eff813",
   "metadata": {},
   "outputs": [],
   "source": [
    "class Backpack:\n",
    "    # your code here \n",
    "    def enlarge(self, size):\n",
    "        \"\"\"Увеличивает объем рюкзака за деньги: стоимость единицы объема можно задать в динамических атрибутах\"\"\"\n",
    "        # your code here \n",
    "    \n",
    "class Player:\n",
    "    def __init__(self, name):\n",
    "        self.name = name\n",
    "        self.money = 300\n",
    "        self.backpack = Backpack()\n",
    "    def searchitem(self, item):\n",
    "        \"\"\"Ищет предмет item в рюкзаке персонажа\"\"\"\n",
    "        # your code here \n",
    "    def putitem(self, item):\n",
    "        \"\"\"Добавляет предмет в рюкзак: если предмет помещается туда\"\"\"\n",
    "        self.backpack.add(item)\n",
    "        # your code here \n",
    "    def buyspace(self, size):\n",
    "        \"\"\"Увеличивает объем рюкзака на size за x денег, если денег хватает\"\"\"\n",
    "        # your code here \n",
    "        \n",
    "player = Player('test')\n",
    "player.putitem('Зелье')\n",
    "player.searchitem('Зелье')\n",
    "player.buyspace(10)"
   ]
  },
  {
   "cell_type": "markdown",
   "id": "c2d5d682-790a-482b-aa2a-211341aa0d76",
   "metadata": {},
   "source": [
    "#### Задача 2. \n",
    "\n",
    "Вспомним задачу токенизации. Напишите собственный простенький токенизатор в классе, у которого должна быть (генераторная) функция tokenize(). Вам понадобится отдельный класс для токенов и re.finditer(). Класс для токенов можно скопировать из предыдущих задач."
   ]
  },
  {
   "cell_type": "code",
   "execution_count": null,
   "id": "81abb7f0-159a-47bb-bd4c-4411d0aa3fac",
   "metadata": {},
   "outputs": [],
   "source": [
    "import re \n",
    "\n",
    "class Token:\n",
    "    # your code here \n",
    "    \n",
    "class Tokenizer:\n",
    "    # your code here \n",
    "    \n",
    "tokenizer = Tokenizer()\n",
    "tokenizer.tokenize(input())"
   ]
  },
  {
   "cell_type": "markdown",
   "id": "67a29f5f-5910-4957-a276-1a898c602a17",
   "metadata": {},
   "source": [
    "#### Задача 3. \n",
    "\n",
    "Напишите декоратор Count, который будет следить за тем, сколько раз была вызвана декорированная функция. "
   ]
  },
  {
   "cell_type": "code",
   "execution_count": null,
   "id": "77cfd6e7-4763-44cf-b997-13f8ba901c38",
   "metadata": {},
   "outputs": [],
   "source": [
    "class Count:\n",
    "    def __init__(self, func):\n",
    "    # your code here \n",
    "    \n",
    "@Count\n",
    "def myfunc(*args):\n",
    "    print('Hello')\n",
    "    \n",
    "myfunc(1, 2, 3)"
   ]
  },
  {
   "cell_type": "markdown",
   "id": "fc85ded4-b212-47ed-9b8c-a3b65a12517f",
   "metadata": {},
   "source": [
    "#### Задача 4. \n",
    "\n",
    "Напишите декоратор Singleton, который будет применяться к какому-либо классу и следить за тем, чтобы в конкретную единицу времени существовал только один экземпляр этого класса. "
   ]
  },
  {
   "cell_type": "code",
   "execution_count": null,
   "id": "df66eb98-a7ca-4d76-ba6a-150b576d36ec",
   "metadata": {
    "tags": []
   },
   "outputs": [],
   "source": [
    "class Singleton:\n",
    "    def __init__(self, singleClass):\n",
    "        # your code here\n",
    "    def __call__(self, *args, **kwargs):\n",
    "        # your code here\n",
    "    \n",
    "@Singleton\n",
    "class A:\n",
    "    def __init__(self, name):\n",
    "        self.name = name\n",
    "        \n",
    "a = A('first')\n",
    "b = A('second')\n",
    "\n",
    "assert b.name == 'first'"
   ]
  },
  {
   "cell_type": "markdown",
   "id": "ab9101dd-2631-4bdd-b6c1-22186c1a466a",
   "metadata": {},
   "source": [
    "#### Задача 5. \n",
    "\n",
    "Для обучения нейронных сетей обычно пишется специальный класс Dataset для работы с данными. Этот класс наследуется от стандартного класса torch.utils.data.Dataset и обязательно должен переопределять два магических метода: \\_\\_len\\_\\_ и \\_\\_getitem\\_\\_. Представим себе, что мы планируем решать задачу распознавания именованных сущностей и у нас есть данные такого вида:\n",
    "\n",
    "    Nýfallinn\tO\n",
    "    snjór\tO\n",
    "    kann\tO\n",
    "    því\tO\n",
    "    að\tO\n",
    "    vera\tO\n",
    "    hvítari\tO\n",
    "    en\tO\n",
    "    Safnahúsið\tB-LOC\n",
    "    .\tO\n",
    "    \n",
    "Каждое предложение отделено от другого пустой строкой, каждое слово через знак табуляции имеет правильный класс (O, B-PER, I-PER и др., которые означают отсутствие именованной сущности (О) или какой-то ее класс). Нейронная сеть ожидает на вход один объект из двух частей: список слов и список их классов (можно в словаре). Длина датасета нужна для того, чтобы можно было заранее знать, по какому количеству данных итерироваться. \n",
    "\n",
    "Напишите класс Dataset. Советую работать в колабе - тогда не придется устанавливать torch и можно сразу загрузить файл с примерами данных в ячейке ниже. "
   ]
  },
  {
   "cell_type": "code",
   "execution_count": null,
   "id": "1e3a607e-e680-478e-92fb-42b84dcb8d4e",
   "metadata": {
    "tags": []
   },
   "outputs": [],
   "source": [
    "!wget https://raw.githubusercontent.com/rsuh-python/mag2023NN/refs/heads/main/07-transformers/val.txt"
   ]
  },
  {
   "cell_type": "code",
   "execution_count": null,
   "id": "531698ad-691e-40ef-a44c-b385cc07d61c",
   "metadata": {
    "tags": []
   },
   "outputs": [],
   "source": [
    "from torch.utils.data import Dataset\n",
    "\n",
    "class NERDataset(Dataset):\n",
    "    def __init__(self, ...):\n",
    "        # your code here \n",
    "                    \n",
    "    def __len__(self):\n",
    "        # your code here \n",
    "    \n",
    "    def __getitem__(self, idx):\n",
    "        \"\"\"метод принимает индекс и должен вернуть словарь с предложением и его классами по этому индексу\"\"\"\n",
    "        # your code here\n",
    "        return {'words': words, 'labels': labels}\n",
    "    \n",
    "data = NERDataset(...)\n",
    "data[4]"
   ]
  },
  {
   "cell_type": "markdown",
   "id": "d4bdc10b-916a-44c2-9640-68631a12e3ef",
   "metadata": {
    "tags": []
   },
   "source": [
    "#### Задача 6. \n",
    "\n",
    "Сыграем первоапрельскую шутку: доопределим класс int таким образом, чтобы сложение двух экземпляров такого класса возвращало результат их умножения. \n",
    "\n",
    "Подсказка: конструктор класса int вместо self принимает само значение числа. "
   ]
  },
  {
   "cell_type": "code",
   "execution_count": null,
   "id": "b003ce0d-3409-47ef-a01e-1f1937351768",
   "metadata": {},
   "outputs": [],
   "source": [
    "class myint(int):\n",
    "    def __init__(self, value=0):\n",
    "        # your code here\n",
    "    \n",
    "a = myint(3)\n",
    "b = myint(4)\n",
    "\n",
    "assert a + b == 12"
   ]
  }
 ],
 "metadata": {
  "kernelspec": {
   "display_name": "Python 3 (ipykernel)",
   "language": "python",
   "name": "python3"
  },
  "language_info": {
   "codemirror_mode": {
    "name": "ipython",
    "version": 3
   },
   "file_extension": ".py",
   "mimetype": "text/x-python",
   "name": "python",
   "nbconvert_exporter": "python",
   "pygments_lexer": "ipython3",
   "version": "3.9.18"
  }
 },
 "nbformat": 4,
 "nbformat_minor": 5
}
