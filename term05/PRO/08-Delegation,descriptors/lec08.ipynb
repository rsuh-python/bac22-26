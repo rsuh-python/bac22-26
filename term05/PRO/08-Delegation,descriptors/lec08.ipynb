{
 "cells": [
  {
   "cell_type": "markdown",
   "id": "9097386c-ac04-460b-ad14-0a1530b207f9",
   "metadata": {},
   "source": [
    "## Наследование. Множественное наследование. MRO. Композиция. Делегирование. Псевдозакрытые атрибуты классов"
   ]
  },
  {
   "cell_type": "markdown",
   "id": "64b18ecc-e06f-43b9-81a2-6c7c0a84eb74",
   "metadata": {},
   "source": [
    "### Множественное наследование и MRO"
   ]
  },
  {
   "cell_type": "markdown",
   "id": "768f68cd-1449-4eec-b9b1-0111006d1432",
   "metadata": {},
   "source": [
    "Множественное наследование (подмешивание классов) - когда класс-ребенок имеет больше одного класса-родителя. В таком случае наследуются все методы и атрибуты суперклассов. "
   ]
  },
  {
   "cell_type": "code",
   "execution_count": 96,
   "id": "d102689f-7891-4458-ae30-5a9023f770ab",
   "metadata": {
    "executionInfo": {
     "elapsed": 2,
     "status": "ok",
     "timestamp": 1663854618075,
     "user": {
      "displayName": "Alexandra Ivoylova",
      "userId": "06069991353189522669"
     },
     "user_tz": -180
    },
    "id": "I4kaGZ6XPRfq"
   },
   "outputs": [],
   "source": [
    "class Employee:\n",
    "    '''Общий класс-родитель (дедушка)'''\n",
    "  def __init__(self, name, surname):\n",
    "    self.name = name\n",
    "    self.surname = surname\n",
    "    self.__salary = 350  # _Employee__salary\n",
    "    self.bankaccount = 0\n",
    "\n",
    "  def work(self, *args):\n",
    "    raise NotImplementedError\n",
    "\n",
    "class Linguist(Employee):\n",
    "    '''Класс-мама'''\n",
    "  def __init__(self, name, surname):\n",
    "    Employee.__init__(self, name, surname)\n",
    "    self.__salary = self._Employee__salary * 1.5\n",
    "    self.publications = []\n",
    "    \n",
    "  def work(self, hours, name_of_publ):\n",
    "    print('Working...')\n",
    "    sleep(hours)\n",
    "    self.bankaccount += self.salary * hours\n",
    "    self.publications.append(name_of_publ)\n",
    "    print(f'{self.name} {self.surname} has published a paper {name_of_publ} in Voprosy Yazykoznaniya')\n",
    "\n",
    "  def readlingpapers(self, lingpaper):\n",
    "    print('Reading...')\n",
    "    sleep(len(lingpaper) // 10)\n",
    "    print(f'{self.name} {self.surname} has read {lingpaper}')\n",
    "\n",
    "class Programmer(Employee):\n",
    "    '''Класс-папа'''\n",
    "  def __init__(self, name, surname):\n",
    "    Employee.__init__(self, name, surname)\n",
    "    self.__salary *= self._Employee__salary * 2.5\n",
    "    self.projects = []\n",
    "\n",
    "  def work(self, hours, name_of_project):\n",
    "    print('Working...')\n",
    "    sleep(hours)\n",
    "    self.bankaccount += self.salary * hours\n",
    "    self.projects.append(name_of_project)\n",
    "    print(f'{self.name} {self.surname} has committed a repo {name_of_project} to GitHub')\n",
    "\n",
    "  def learnpython(self, hours):\n",
    "    print('Studying...')\n",
    "    sleep(hours)\n",
    "    print(f'{self.name} {self.surname} has learned a bit of Python')"
   ]
  },
  {
   "cell_type": "code",
   "execution_count": 82,
   "id": "a3816d93-de26-4186-aca2-b343f5b4d9bd",
   "metadata": {
    "executionInfo": {
     "elapsed": 349,
     "status": "ok",
     "timestamp": 1663854247360,
     "user": {
      "displayName": "Alexandra Ivoylova",
      "userId": "06069991353189522669"
     },
     "user_tz": -180
    },
    "id": "oAiY5voVRBZ3"
   },
   "outputs": [],
   "source": [
    "class ComputerLinguist(Linguist, Programmer):\n",
    "    '''Наследуемся одновременно от лингвиста и от программиста'''\n",
    "  def __init__(self, name, surname):\n",
    "    Linguist.__init__(self, name, surname)  # явным образом вызываем init класса \"лингвист\"\n",
    "    Programmer.__init__(self, name, surname)\n",
    "    self.salary *= 0.9\n",
    "\n",
    "  def work(self, hours, name_of_paper_with_code):\n",
    "    print('Working...')\n",
    "    sleep(hours)\n",
    "    self.publications.append(name_of_paper_with_code)\n",
    "    self.projects.append(name_of_paper_with_code)\n",
    "    self.bankaccount += self.salary * hours\n",
    "    print(f'{self.name} {self.surname} has published {name_of_paper_with_code} in ACL Papers')"
   ]
  },
  {
   "cell_type": "markdown",
   "id": "ea2085a8-c3f3-4f8b-ba73-8cc1f38f7279",
   "metadata": {},
   "source": [
    "При таком раскладе, если мы вдруг не определили бы у класса-ребенка метод work, а у обоих классов-родителей он был, питон пошел бы искать у того класса, который мы в скобках написали первым. \n",
    "\n",
    "![Image](https://media.geeksforgeeks.org/wp-content/uploads/220px-diamond_inheritance-svg.png)\n",
    "\n",
    "Эта вещь и называется Method Resolution Order = MRO. Когда мы вызываем какой-нибудь метод класса, питон попросту ищет такой метод в пространстве имен сперва самого этого класса, потом, если не находит, то у класса-родителя, от которого наследуем первым, а если у него нет, то у его родителя, и так далее. \n",
    "\n",
    "Что касается динамических атрибутов, то если есть одноименные, то все решает порядок вызовов init: кого последним вызвали, того и зарплата. "
   ]
  },
  {
   "cell_type": "markdown",
   "id": "641bcf62-5b17-4945-bd77-2195920f78e9",
   "metadata": {},
   "source": [
    "### Композиция и делегирование"
   ]
  },
  {
   "cell_type": "markdown",
   "id": "9fede9e3-f3ed-4ace-a9d8-2bb12332df11",
   "metadata": {},
   "source": [
    "Другой способ сочетать классы при проектировании программы - композиция. Это когда мы вкладываем экземпляры классов в другие классы и вызываем их методы внутри определения класса. "
   ]
  },
  {
   "cell_type": "code",
   "execution_count": 65,
   "id": "31d2c5d3-bc51-49fd-a106-3f06c2634e0b",
   "metadata": {
    "executionInfo": {
     "elapsed": 231,
     "status": "ok",
     "timestamp": 1663853219334,
     "user": {
      "displayName": "Alexandra Ivoylova",
      "userId": "06069991353189522669"
     },
     "user_tz": -180
    },
    "id": "d3cByX6GUSK2"
   },
   "outputs": [],
   "source": [
    "class Employee:\n",
    "    '''Класс общего назначения'''\n",
    "  def __init__(self, name, surname):\n",
    "    self.name = name\n",
    "    self.surname = surname\n",
    "    self.salary = 350\n",
    "    self.bankaccount = 0\n",
    "\n",
    "  def work(self, *args):\n",
    "    raise NotImplementedError\n",
    "\n",
    "  def sleep(self, message):\n",
    "    print(message)\n",
    "\n",
    "class Linguist:\n",
    "  def __init__(self, name, surname, salary_coef):\n",
    "    self.employee = Employee(name, surname)  # создаем экземпляр класса Employee и складываем его в атрибут класса Лингвист. \n",
    "    self.employee.salary *= salary_coef  # у самого лингвиста при этом нет атрибутов, кроме employee, поэтому если нам нужна зарплата, обращаемся напрямую к атрибутам employee\n",
    "  \n",
    "  def work(self, hours):\n",
    "    print('Working...')\n",
    "    sleep(hours)\n",
    "    self.employee.bankaccount += hours * self.employee.salary\n",
    "\n",
    "  def sleep(self, message):\n",
    "    self.employee.sleep(message)  # делегирование\n",
    "\n",
    "  def __getattr__(self, attr):\n",
    "    '''А чтобы можно было обращаться к атрибутам вложенного класса, приходится делегировать'''\n",
    "    print(f'{attr} is called')\n",
    "    return getattr(self.employee, attr) # встроенная функция \n",
    "\n",
    "  def __setattr__(self, attr, value):\n",
    "    print(f'trying to set attr {attr}')\n",
    "    self.__dict__[attr] = value"
   ]
  },
  {
   "cell_type": "markdown",
   "id": "b1921354-6993-4ee3-a5cd-0b337031c1e8",
   "metadata": {},
   "source": [
    "Магические методы \\_\\_getattr\\_\\_ и \\_\\_setattr\\_\\_ вызываются, когда мы обращаемся к неопределенному (не существующему) атрибуту через точку. То есть, когда они вызываются в этом конкретном случае: у класса Linguist есть только один атрибут - employee. Если мы к нему обратимся, эти методы не сработают. Но если мы обратимся к атрибуту name, которого у Лингвиста нет, потому что он есть только у вложенного экземпляра класса Employee, то вызовется метод \\_\\_getattr\\_\\_, а тут-то мы и перенаправим на атрибут вложенного экземпляра. \n",
    "\n",
    "Это и называется делегирование. В примере выше оно происходит в методах sleep, getattr & setattr."
   ]
  },
  {
   "cell_type": "markdown",
   "id": "b6047279-ba72-4ac3-bc47-95f65c7571de",
   "metadata": {},
   "source": [
    "Почему нам приходится таким странным образом переопределять setattr? Потому что если мы напишем просто \n",
    "\n",
    "    def __setattr__(self, attr, value):\n",
    "        self.attr = value\n",
    "        \n",
    "Возникнет рекурсия: точка опять вызовет этот же метод. Кстати говоря, зациклить можно и getattr, если переопределить его для получения атрибутов этого же класса. \n",
    "\n",
    "Поэтому мы идем обходным путем и используем встроенный атрибут класса \\_\\_dict\\_\\_. Что это за атрибуты такие? Это специальные зарезервированные атрибуты, некоторые из них по умолчанию у любого класса появляются, некоторые обычно появляются, но могут нет (\\_\\_dict\\_\\_ как раз может не быть). Этот самый \\_\\_dict\\_\\_ - это действительно всего лишь обычнейший словарь, где в качестве ключей хранятся имена атрибутов, а в значениях, собственно, их значения. \n",
    "\n",
    "У класса есть еще парочка полезных атрибутов, например, \\_\\_class\\_\\_ возвращает ссылку из экземпляра на класс. В этой ссылке содержится имя класса \\_\\_name\\_\\_ и последовательность \\_\\_bases\\_\\_, в которой лежат классы-родители. "
   ]
  },
  {
   "cell_type": "code",
   "execution_count": 73,
   "id": "4ea43de2-c6a6-4535-867c-f017595f89e0",
   "metadata": {
    "executionInfo": {
     "elapsed": 283,
     "status": "ok",
     "timestamp": 1663853446601,
     "user": {
      "displayName": "Alexandra Ivoylova",
      "userId": "06069991353189522669"
     },
     "user_tz": -180
    },
    "id": "wn0IsOAaYjdc"
   },
   "outputs": [],
   "source": [
    "class Employee:\n",
    "  def __init__(self, name, surname):\n",
    "    self.name = name\n",
    "    self.surname = surname\n",
    "    self.salary = 350\n",
    "    self.bankaccount = 0\n",
    "\n",
    "  def work(self, *args):\n",
    "    raise NotImplementedError\n",
    "\n",
    "  def __repr__(self):\n",
    "    return f\"{self.__class__.__name__}('{self.name}', '{self.surname}')\"  # так с помощью этих атрибутов можно определить метод repr, чтобы меньше хардкодить"
   ]
  },
  {
   "cell_type": "code",
   "execution_count": null,
   "id": "58fd27b1-2674-4e6f-9d5d-88146088836c",
   "metadata": {},
   "outputs": [],
   "source": [
    "class ComputerLinguist(Linguist, Programmer):\n",
    "    '''Наследуемся одновременно от лингвиста и от программиста'''\n",
    "  def __init__(self, name, surname):\n",
    "    for base in self.__class__.__bases__:\n",
    "        base.__init__(self, name, surname)\n",
    "    # Альтернатива закомментированному коду\n",
    "    # Linguist.__init__(self, name, surname)  # явным образом вызываем init класса \"лингвист\"\n",
    "    # Programmer.__init__(self, name, surname)\n",
    "    self.salary *= 0.9"
   ]
  },
  {
   "cell_type": "markdown",
   "id": "6f3df5b5-a13e-4f71-b8bf-498093373b33",
   "metadata": {},
   "source": [
    "Композиция выглядит более громоздкой и сложной, чем наследование, но у нее есть свои области применения. Обычно композиция + делегирование используется, когда нам нужен какой-нибудь класс-контролер, который сам по себе ничего не делает, но, например, следит за состоянием другого класса. Можно логировать (выводить логи про каждый пшик), например, если в переопределенных методах getattr & setattr прописать какие-нибудь принты, можно отслеживать обращения к атрибутам. \n",
    "\n",
    "Композиция также позволяет агрегировать экземпляры другого класса:"
   ]
  },
  {
   "cell_type": "code",
   "execution_count": 76,
   "id": "cb781834-83a3-4011-a8aa-94ce579586c4",
   "metadata": {
    "executionInfo": {
     "elapsed": 246,
     "status": "ok",
     "timestamp": 1663853769026,
     "user": {
      "displayName": "Alexandra Ivoylova",
      "userId": "06069991353189522669"
     },
     "user_tz": -180
    },
    "id": "XccIh3nkZymd"
   },
   "outputs": [],
   "source": [
    "class ARD:\n",
    "    '''отдел Advanced Research & Development '''\n",
    "  def __init__(self, *args):\n",
    "    self.members = list(args)  # куча лингвистов\n",
    "\n",
    "  def add_member(self, linguist):\n",
    "    self.members.append(linguist)\n",
    "\n",
    "  def raise_salary(self, coef):\n",
    "    '''массово всему отделу повышаем зарплатку'''\n",
    "    for linguist in self.members:\n",
    "      linguist.salary *= coef\n",
    "\n",
    "  def workEveryone(self, hour):\n",
    "    '''или гоним работать лентяев'''\n",
    "    for linguist in self.members:\n",
    "      linguist.work(hour)"
   ]
  },
  {
   "cell_type": "markdown",
   "id": "2336df3e-837f-4586-9fe0-032fea2bc531",
   "metadata": {},
   "source": [
    "Фишку с делегированием и переопределением getattr & setattr также ограниченно можно использовать для реализации инкапсуляции: закрыть доступ к атрибутам класса. \n",
    "\n",
    "Ну и вот пример класса-контроллера, который сам по себе ничего не делает, только следит за работой внутреннего класса:"
   ]
  },
  {
   "cell_type": "code",
   "execution_count": 80,
   "id": "21753624-75e5-4909-8fa4-35d867b5d720",
   "metadata": {
    "executionInfo": {
     "elapsed": 272,
     "status": "ok",
     "timestamp": 1663854198823,
     "user": {
      "displayName": "Alexandra Ivoylova",
      "userId": "06069991353189522669"
     },
     "user_tz": -180
    },
    "id": "xwlhw1f8atGs"
   },
   "outputs": [],
   "source": [
    "class Wrapper:\n",
    "  def __init__(self, object):\n",
    "    self.wrapped = object\n",
    "  \n",
    "  def __getattr__(self, attr):\n",
    "    print(f'Big brother is watching you, here is your {attr}')\n",
    "    return getattr(self.wrapped, attr)"
   ]
  },
  {
   "cell_type": "code",
   "execution_count": 86,
   "id": "3f023a4d-7d1e-475d-a78b-2c9479e97196",
   "metadata": {
    "executionInfo": {
     "elapsed": 272,
     "status": "ok",
     "timestamp": 1663854322512,
     "user": {
      "displayName": "Alexandra Ivoylova",
      "userId": "06069991353189522669"
     },
     "user_tz": -180
    },
    "id": "qemEw171cEpL"
   },
   "outputs": [],
   "source": [
    "w = Wrapper(gorbunova)"
   ]
  },
  {
   "cell_type": "code",
   "execution_count": 87,
   "id": "316a20ff-a926-43bf-8810-55e8ec2e3dfb",
   "metadata": {
    "colab": {
     "base_uri": "https://localhost:8080/",
     "height": 53
    },
    "executionInfo": {
     "elapsed": 7,
     "status": "ok",
     "timestamp": 1663854324138,
     "user": {
      "displayName": "Alexandra Ivoylova",
      "userId": "06069991353189522669"
     },
     "user_tz": -180
    },
    "id": "gz7KZDnpcUyv",
    "outputId": "24c5e08b-5dac-4426-e524-07f3af59f951"
   },
   "outputs": [
    {
     "name": "stdout",
     "output_type": "stream",
     "text": [
      "Big brother is watching you, here is your name\n"
     ]
    },
    {
     "data": {
      "application/vnd.google.colaboratory.intrinsic+json": {
       "type": "string"
      },
      "text/plain": [
       "'Ira'"
      ]
     },
     "execution_count": 87,
     "metadata": {},
     "output_type": "execute_result"
    }
   ],
   "source": [
    "w.name"
   ]
  },
  {
   "cell_type": "markdown",
   "id": "078851d6-5010-47be-9684-d0992115a764",
   "metadata": {},
   "source": [
    "Похожим образом работают дескрипторы классов и декораторы. "
   ]
  },
  {
   "cell_type": "markdown",
   "id": "44fead23-ee5b-41ba-a85c-fe4d13ccc5f4",
   "metadata": {},
   "source": [
    "### Псевдозакрытые атрибуты классов"
   ]
  },
  {
   "cell_type": "markdown",
   "id": "7cbb9d6d-b1c7-4722-8a7e-eb1104f8bbc0",
   "metadata": {},
   "source": [
    "Напомню, в ООП есть такая концепция, как инкапсуляция: она о том, что мы должны иметь доступ к классу только через его интерфейс, а его внутренности должны быть от нас скрыты. Например, в объектно-ориентированном языке Java это реализуется с помощью операторов public & private:\n",
    "\n",
    "    public class tokenisation {\n",
    "        public static void main(String[] args) throws Exception\n",
    "        {\n",
    "            System.setProperty(\"file.encoding\", \"UTF-8\");\n",
    "            Scanner scan = new Scanner(System.in, \"UTF-8\");\n",
    "            final DecimalFormat df = new DecimalFormat(\"0.00\");\n",
    "\n",
    "            System.out.println(\"Enter file path:\");\n",
    "            String path = scan.nextLine();\n",
    "            File file = new File(path);\n",
    "\n",
    "            ArrayList<String> text = new ArrayList<String>();\n",
    "\n",
    "            Pattern pattern = Pattern.compile(\"[a-zА-Яа-яёЁ]+(-[a-zА-Яа-яёЁ]+)*\", Pattern.CASE_INSENSITIVE);\n",
    "\n",
    "            BufferedReader br = new BufferedReader(new FileReader(file));\n",
    "            String str;\n",
    "            while ((str = br.readLine()) != null) {\n",
    "                Matcher matcher = pattern.matcher(str);\n",
    "                while (matcher.find()) {\n",
    "                    String match = matcher.group();\n",
    "                    text.add(match);\n",
    "                }\n",
    "\n",
    "            }\n",
    "            br.close();\n",
    "            scan.close();\n",
    "\n",
    "            Set<String> unique = new HashSet<String>(text);\n",
    "\n",
    "            float lexdiv = (float)unique.size() / (float)text.size() * 100;\n",
    "\n",
    "            System.out.println(df.format(lexdiv));\n",
    "\n",
    "        }\n",
    "    }\n",
    "    \n",
    "Так выглядит код на этом языке. Можно заметить, что здесь встречается словечко public, которое сообщает, что этот класс и эту функцию можно вызывать из других мест. Если бы было private, то мы не имели бы доступа к этому объекту извне. \n",
    "\n",
    "У питона таких готовых инструментов нет, но можно закрывать атрибуты и имитировать инкапсуляцию разными способами. В частности, в питоне есть псевдозакрытые атрибуты: это скорее про конвенции, чем про синтаксис, но тем не менее. \n",
    "\n",
    "Если мы хотим сделать какой-то атрибут класса закрытым, то мы должны назвать его с двойным нижним подчеркиванием перед именем:\n",
    "\n",
    "    self.__salary\n",
    "    \n",
    "Тогда внутри класса мы можем к нему обращаться по этому имени, а вне тоже вообще-то можем, но тогда придется писать \\_Linguist\\_\\_salary, потому что такие атрибуты интерпретатор автоматически переименовывает при определении класса. "
   ]
  },
  {
   "cell_type": "markdown",
   "id": "e5ad1920-004e-4108-bd8f-9d9ab25d55ba",
   "metadata": {},
   "source": [
    "#### Свойства (properties)"
   ]
  },
  {
   "cell_type": "markdown",
   "id": "56512d87-661d-4b38-b784-4cec556ab190",
   "metadata": {},
   "source": [
    "Мы с вами пользовались для делегирования переопределением методов \\_\\_setattr\\_\\_ & \\_\\_getattr\\_\\_. Эти методы вызываются только тогда, когда мы обращаемся к атрибуту экземпляра, которого у него нет. Например:"
   ]
  },
  {
   "cell_type": "code",
   "execution_count": 3,
   "id": "6052f440-acd0-42e3-a040-909e6216f6d3",
   "metadata": {},
   "outputs": [],
   "source": [
    "class A:\n",
    "    def __init__(self, a):\n",
    "        self.a = a\n",
    "    def __getattr__(self, attr):\n",
    "        print('getattr')"
   ]
  },
  {
   "cell_type": "code",
   "execution_count": 4,
   "id": "793f3361-a9cd-479e-8d16-6efde7685dd3",
   "metadata": {},
   "outputs": [
    {
     "data": {
      "text/plain": [
       "1"
      ]
     },
     "execution_count": 4,
     "metadata": {},
     "output_type": "execute_result"
    }
   ],
   "source": [
    "a = A(1)\n",
    "a.a # обращаемся к атрибуту, который есть"
   ]
  },
  {
   "cell_type": "code",
   "execution_count": 5,
   "id": "663daaa6-89a1-4ad2-8e71-99840d6b9983",
   "metadata": {},
   "outputs": [
    {
     "name": "stdout",
     "output_type": "stream",
     "text": [
      "getattr\n"
     ]
    }
   ],
   "source": [
    "a.b  # обращаемся к атрибуту, которого нет"
   ]
  },
  {
   "cell_type": "markdown",
   "id": "4115639d-627e-46c2-8bc6-52115a365451",
   "metadata": {},
   "source": [
    "Нужно быть осторожнее с этими методами, потому что если их неаккуратно переопределить, можно уйти в бесконечный цикл: если мы напишем в getattr getattr(self, attr), уйдем в рекурсию, можете проверить. \n",
    "\n",
    "Еще осторожнее нужно быть с методами \\_\\_getattribute\\_\\_ & \\_\\_setattribute\\_\\_, которые делают то же самое, но для всех атрибутов вообще, существуют они или нет. "
   ]
  },
  {
   "cell_type": "markdown",
   "id": "1005e80c-fb1f-4446-8f96-87b813d4a9b2",
   "metadata": {},
   "source": [
    "Если же нам нужно переопределить способ обращения к какому-то атрибуту класса (например, добавить проверку при присваивании), можно воспользоваться встроенной функцией property, которая обеспечивает интерфейс для атрибутов экземпляра класса. Сам метод принимает четыре аргумента:\n",
    "\n",
    "    property(get, set, del, doc)\n",
    "    \n",
    "Как правило, если вы используете этот метод, вы точно захотите передать ему get, а дальше по убыванию: doc передается реже всего. Ни один из них по сути не обязательный, но get, наверное, хотелось бы передавать. \n",
    "\n",
    "Как это все реализуется:"
   ]
  },
  {
   "cell_type": "code",
   "execution_count": 71,
   "id": "da4d5257-1886-4d8a-be6a-fb2048ffebb2",
   "metadata": {},
   "outputs": [],
   "source": [
    "class Person:\n",
    "    def __init__(self):\n",
    "        self.__name = ''\n",
    "        \n",
    "    def getname(self):\n",
    "        print('getting name')\n",
    "        return self.__name\n",
    "        \n",
    "    def setname(self, name):\n",
    "        if name.isalpha():\n",
    "            self.__name = name\n",
    "    \n",
    "    def delname(self):\n",
    "        print('deleting name')\n",
    "        del self.__name\n",
    "    name = property(getname, setname, delname)  # property(get, set, del, doc)"
   ]
  },
  {
   "cell_type": "code",
   "execution_count": 72,
   "id": "04ecaeff-ffad-4070-965c-39279d153d65",
   "metadata": {},
   "outputs": [],
   "source": [
    "p = Person()"
   ]
  },
  {
   "cell_type": "code",
   "execution_count": 73,
   "id": "709e3058-e986-40f7-aa50-a9902978b75c",
   "metadata": {},
   "outputs": [],
   "source": [
    "p.name = 'Vasya'"
   ]
  },
  {
   "cell_type": "code",
   "execution_count": 74,
   "id": "c02b2c21-37a8-44bd-9097-de720719eff0",
   "metadata": {},
   "outputs": [
    {
     "name": "stdout",
     "output_type": "stream",
     "text": [
      "getting name\n"
     ]
    },
    {
     "data": {
      "text/plain": [
       "'Vasya'"
      ]
     },
     "execution_count": 74,
     "metadata": {},
     "output_type": "execute_result"
    }
   ],
   "source": [
    "p.name"
   ]
  },
  {
   "cell_type": "markdown",
   "id": "22ea0c7b-9fe3-434b-9dc3-cb14d6f9a220",
   "metadata": {},
   "source": [
    "В каком порядке я определяю функции getname, setname & delname (а также как я их называю - можно называть их как угодно), неважно: важно только, в каком порядке я их передаю в метод property. \n",
    "\n",
    "Переменная name находится на верхнем уровне определения класса, на одном уровне с определениями методов. Но при этом сам атрибут name (точнее говоря, \\_\\_name) будет принадлежать конкретному экземпляру. Мы самому классу приписали свойство, которое теперь будет взаимодействовать со всеми его экземплярами, устанавливая им внутренний атрибут \\_\\_name. Это надо четко себе уяснить: name - не атрибут экземпляра. Это атрибут класса, который хранит в себе *дескриптор*. А дескриптор - это объект, который управляет внутренним атрибутом \\_\\_name. \n",
    "\n",
    "Да:  property - это разновидность дескриптора вообще. Давайте посмотрим про дескрипторы. "
   ]
  },
  {
   "cell_type": "markdown",
   "id": "00eec1b1-fb53-42e8-bf74-f2af7d4d5c3d",
   "metadata": {},
   "source": [
    "#### Дескрипторы. Введение"
   ]
  },
  {
   "cell_type": "markdown",
   "id": "c4df678a-898e-45cd-a4e7-ef8674d2cf6c",
   "metadata": {},
   "source": [
    "Дескриптор - это такой объект питона, который имплементирует метод протокола дескриптора. Что такое протокол дескриптора? (descriptor protocol) Это то, каким образом питон работает с атрибутами объектов (классов или экземпляров). Мы с атрибутами что можем делать:\n",
    "\n",
    "- Запрашивать их значение (\\_\\_get\\_\\_)\n",
    "- Устанавливать их значение (\\_\\_set\\_\\_)\n",
    "- Удалять их (\\_\\_delete\\_\\_)\n",
    "- и устанавливать им имя и объект-хозяина (\\_\\_set\\_name\\_\\_)\n",
    "\n",
    "Все эти вещи и переопределяет дескриптор, чтобы можно было их делать каким-нибудь особенным образом. Дескрипторы бывают двух видов: data & non-data. Первый переопределяет метод \\_\\_set\\_\\_, а второй нет. \n",
    "\n",
    "Итак, как это все выглядит:"
   ]
  },
  {
   "cell_type": "code",
   "execution_count": 114,
   "id": "065d32e7-09e1-4c77-a401-3ca8e8d6d453",
   "metadata": {},
   "outputs": [],
   "source": [
    "class Temperature:\n",
    "    \"\"\"descriptor\"\"\"\n",
    "    def __get__(self, person, type=None):\n",
    "        if hasattr(person, 'temp'):\n",
    "            return person.temp\n",
    "        raise AttributeError\n",
    "    \n",
    "    def __set__(self, person, value):\n",
    "        if 30 <= value <= 42:\n",
    "            person.temp = value\n",
    "        else:\n",
    "            print('Can\\'t set!')\n",
    "\n",
    "class Person:\n",
    "    temperature = Temperature()"
   ]
  },
  {
   "cell_type": "code",
   "execution_count": 115,
   "id": "ead12818-7f53-4a72-b10f-32f09b06a45f",
   "metadata": {},
   "outputs": [],
   "source": [
    "vasya = Person()"
   ]
  },
  {
   "cell_type": "code",
   "execution_count": 116,
   "id": "5a36f744-62b8-43fa-befc-96559d49ff7f",
   "metadata": {},
   "outputs": [
    {
     "name": "stdout",
     "output_type": "stream",
     "text": [
      "Can't set!\n"
     ]
    }
   ],
   "source": [
    "vasya.temperature = 43"
   ]
  },
  {
   "cell_type": "code",
   "execution_count": 117,
   "id": "4611d5b4-80f1-45ce-a175-ee36e05896c4",
   "metadata": {},
   "outputs": [],
   "source": [
    "vasya.temperature = 36"
   ]
  },
  {
   "cell_type": "markdown",
   "id": "ab2ec10b-2af6-4a13-9814-eb2ea769005b",
   "metadata": {},
   "source": [
    "Дескриптор - это **отдельный класс**. Это и имеется в виду, когда мы говорим \"объект\". Когда мы определяем класс Person, у него заводим его статический атрибут, в который помещаем конкретный экземпляр класса \"дескриптор\". Теперь, когда мы будем писать vasya.temperature, мы на самом деле обращаемся к дескриптору, а не к атрибуту с целочисленным значением! А дескриптор уже вызывает нужные методы. То есть, что происходит, если совсем подробно:\n",
    "\n",
    "    vasya = Person()  \n",
    "    # у васи, как у экземпляра класса, образуется атрибут Temperature(), \n",
    "    то есть, создается конкретный объект-дескриптор. Никаких динамических атрибутов у васи нет!\n",
    "    \n",
    "    vasya.temperature \n",
    "    # мы обращаемся к дескриптору! У него в этот момент неявным образом вызывается метод __get__, который принимает что? \n",
    "    Сам экземпляр дескриптора (self), объект person = vasya, type, он же owner - это класс (мы можем его не передавать). \n",
    "    \n",
    "    vasya.temperature = 36\n",
    "    # мы опять обращаемся к дескриптору, но оператор присваивания заставляет вызваться метод __set__, который принимает опять\n",
    "    сам экземпляр дескриптора, объект vasya и значение 36. Именно поэтому пишем person.temp = value: мы записываем значение уже в реальный динамический атрибут. \n",
    "    \n",
    "    del vasya.temperature \n",
    "    # должен был бы вызвать метод __delete__, но мы его не определили. "
   ]
  },
  {
   "cell_type": "markdown",
   "id": "11431146-3d65-46f0-9cfd-adeaae34487f",
   "metadata": {},
   "source": [
    "Дескрипторы, как и более простой их вариант property, обычно используются с синтаксисом декораторов (скоро посмотрим). Нужны они все для того же самого: для проверок, логов и всяческого разнообразного контроля над атрибутами, а еще чтоб жизнь малиной не казалась. :)"
   ]
  },
  {
   "cell_type": "markdown",
   "id": "ddd017a2-a178-4be3-b3fc-74b1f2a5900c",
   "metadata": {},
   "source": [
    "#### Статические методы и методы класса"
   ]
  },
  {
   "cell_type": "markdown",
   "id": "09ffebe4-abad-437b-acc4-56e268912305",
   "metadata": {},
   "source": [
    "Статические методы не принимают экземпляр класса: собственно говоря, эти методы могли бы существовать как отдельные функции, но часто их удобно запихивать в класс, чтобы а) не импортировать из модуля кучу имен б) лучшая структура программы в) переопределять их при наследовании!\n",
    "\n",
    "Методы класса вместо экземпляра принимают сам класс. \n",
    "\n",
    "Допустим, у нас есть класс \"Пицца\", у которого хотим сделать метод, чтобы вычислять тупо площадь пиццы по ее диаметру: при этом начинка пиццы, которая нам важна для других методов, здесь не играет роли. Можно это сделать отдельной функцией:"
   ]
  },
  {
   "cell_type": "code",
   "execution_count": 10,
   "id": "87979a62-6967-4eda-a716-3fa730d72149",
   "metadata": {},
   "outputs": [],
   "source": [
    "import math\n",
    "\n",
    "def pizza_area(d):\n",
    "    return math.pi * (d / 2) ** 2\n",
    "\n",
    "class Pizza:\n",
    "    def __init__(self, *ingrs):\n",
    "        self.ingredients = ingrs\n",
    "    \n",
    "    def price(self):\n",
    "        return len(self.ingredients)  # это, конечно, глупость, но мне лень писать адекватно :)"
   ]
  },
  {
   "cell_type": "markdown",
   "id": "609f7766-99b7-4c33-8270-91575f19514d",
   "metadata": {},
   "source": [
    "В таком варианте, если мы захотим импортировать класс \"Пицца\" в другой скрипт, придется импортировать и функцию вместе с ним. Хочется включить метод в класс:"
   ]
  },
  {
   "cell_type": "code",
   "execution_count": 11,
   "id": "c86ede1f-51bb-4ff4-8d58-d28957821b22",
   "metadata": {},
   "outputs": [],
   "source": [
    "class Pizza:\n",
    "    def __init__(self, *ingrs):\n",
    "        self.ingredients = ingrs\n",
    "    \n",
    "    def price(self):\n",
    "        return len(self.ingredients)  \n",
    "    \n",
    "    def pizza_area(d):\n",
    "        return math.pi * (d / 2) ** 2"
   ]
  },
  {
   "cell_type": "markdown",
   "id": "5f558974-3bad-4b9a-90b8-0f4a0aa455fc",
   "metadata": {},
   "source": [
    "Такой код не будет работать:"
   ]
  },
  {
   "cell_type": "code",
   "execution_count": 8,
   "id": "dfafeeeb-2400-4b5e-bdee-395ba9da834e",
   "metadata": {},
   "outputs": [
    {
     "ename": "TypeError",
     "evalue": "pizza_area() takes 1 positional argument but 2 were given",
     "output_type": "error",
     "traceback": [
      "\u001b[0;31m---------------------------------------------------------------------------\u001b[0m",
      "\u001b[0;31mTypeError\u001b[0m                                 Traceback (most recent call last)",
      "Input \u001b[0;32mIn [8]\u001b[0m, in \u001b[0;36m<cell line: 2>\u001b[0;34m()\u001b[0m\n\u001b[1;32m      1\u001b[0m pizza \u001b[38;5;241m=\u001b[39m Pizza(\u001b[38;5;124m'\u001b[39m\u001b[38;5;124mcheese\u001b[39m\u001b[38;5;124m'\u001b[39m, \u001b[38;5;124m'\u001b[39m\u001b[38;5;124msausage\u001b[39m\u001b[38;5;124m'\u001b[39m, \u001b[38;5;124m'\u001b[39m\u001b[38;5;124molives\u001b[39m\u001b[38;5;124m'\u001b[39m)\n\u001b[0;32m----> 2\u001b[0m \u001b[43mpizza\u001b[49m\u001b[38;5;241;43m.\u001b[39;49m\u001b[43mpizza_area\u001b[49m\u001b[43m(\u001b[49m\u001b[38;5;241;43m30\u001b[39;49m\u001b[43m)\u001b[49m\n",
      "\u001b[0;31mTypeError\u001b[0m: pizza_area() takes 1 positional argument but 2 were given"
     ]
    }
   ],
   "source": [
    "pizza = Pizza('cheese', 'sausage', 'olives')\n",
    "pizza.pizza_area(30)"
   ]
  },
  {
   "cell_type": "markdown",
   "id": "58d588fb-128c-44b2-ab93-92d231ce5a45",
   "metadata": {},
   "source": [
    "Будет работать такой:"
   ]
  },
  {
   "cell_type": "code",
   "execution_count": 12,
   "id": "11b44f5f-3910-4488-94c8-6a84825921f7",
   "metadata": {},
   "outputs": [
    {
     "data": {
      "text/plain": [
       "706.8583470577034"
      ]
     },
     "execution_count": 12,
     "metadata": {},
     "output_type": "execute_result"
    }
   ],
   "source": [
    "Pizza.pizza_area(30)"
   ]
  },
  {
   "cell_type": "markdown",
   "id": "b63c14f8-34cc-4fe2-aa1c-bdd9153c8923",
   "metadata": {},
   "source": [
    "Но, кстати говоря, во 2 питоне и такой не сработает (сейчас никто не пользуется 2 питоном, но мало ли...)\n",
    "\n",
    "Тут-то и можно использовать статические методы:"
   ]
  },
  {
   "cell_type": "code",
   "execution_count": 13,
   "id": "14fd8b39-f988-48c6-a058-575f6586f999",
   "metadata": {},
   "outputs": [],
   "source": [
    "class Pizza:\n",
    "    def __init__(self, *ingrs):\n",
    "        self.ingredients = ingrs\n",
    "    \n",
    "    def price(self):\n",
    "        return len(self.ingredients)  \n",
    "    \n",
    "    def pizza_area(d):\n",
    "        return math.pi * (d / 2) ** 2\n",
    "    pizza_area = staticmethod(pizza_area)"
   ]
  },
  {
   "cell_type": "code",
   "execution_count": 14,
   "id": "9580d1c9-ef5e-4210-bf48-cf61eb1a6e60",
   "metadata": {},
   "outputs": [
    {
     "data": {
      "text/plain": [
       "706.8583470577034"
      ]
     },
     "execution_count": 14,
     "metadata": {},
     "output_type": "execute_result"
    }
   ],
   "source": [
    "pizza = Pizza('cheese', 'sausage', 'olives')\n",
    "pizza.pizza_area(30)"
   ]
  },
  {
   "cell_type": "markdown",
   "id": "332c356b-2676-4670-8f82-81a4907b1010",
   "metadata": {},
   "source": [
    "Ура, все заработало и так. Теперь мы можем как хотим обращаться к нашему статическому методу, и возможно, с точки зрения логики будет правильно обращаться к нему все равно от экземпляра. \n",
    "\n",
    "Метод класса работает примерно так же, только еще принимает аргумент - ссылочку на сам класс. Можно устроить этакое:"
   ]
  },
  {
   "cell_type": "code",
   "execution_count": 15,
   "id": "f5cacec2-237a-4ff5-9a21-fd500bc3c338",
   "metadata": {},
   "outputs": [],
   "source": [
    "class Pizza:\n",
    "    def __init__(self, *ingrs):\n",
    "        self.ingredients = ingrs\n",
    "    \n",
    "    def price(self):\n",
    "        return len(self.ingredients)  \n",
    "    \n",
    "    def pizza_area(cls, d):\n",
    "        return f'{cls.__name__}: {math.pi * (d / 2) ** 2}'\n",
    "    pizza_area = classmethod(pizza_area)"
   ]
  },
  {
   "cell_type": "code",
   "execution_count": 16,
   "id": "7aa424ae-1243-4688-9a05-aaf89ddcddf5",
   "metadata": {},
   "outputs": [
    {
     "data": {
      "text/plain": [
       "'Pizza: 706.8583470577034'"
      ]
     },
     "execution_count": 16,
     "metadata": {},
     "output_type": "execute_result"
    }
   ],
   "source": [
    "pizza = Pizza('cheese', 'sausage', 'olives')\n",
    "pizza.pizza_area(30)"
   ]
  }
 ],
 "metadata": {
  "kernelspec": {
   "display_name": "Python 3 (ipykernel)",
   "language": "python",
   "name": "python3"
  },
  "language_info": {
   "codemirror_mode": {
    "name": "ipython",
    "version": 3
   },
   "file_extension": ".py",
   "mimetype": "text/x-python",
   "name": "python",
   "nbconvert_exporter": "python",
   "pygments_lexer": "ipython3",
   "version": "3.11.5"
  }
 },
 "nbformat": 4,
 "nbformat_minor": 5
}
