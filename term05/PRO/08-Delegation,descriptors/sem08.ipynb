{
 "cells": [
  {
   "cell_type": "markdown",
   "id": "fcd9f509-7bee-4768-ad0f-c82b14efadab",
   "metadata": {},
   "source": [
    "#### Задача 1.\n",
    "\n",
    "У вас есть класс Task, который представляет отдельную задачу с атрибутами name (имя задачи) и status (статус задачи). Также есть класс TaskManager, который управляет списком задач: добавляет, удаляет и изменяет их статус.\n",
    "\n",
    "Однако для изменения статуса задач требуется более гибкая логика, поэтому нужно делегировать эту часть работы отдельному классу StatusHandler.\n",
    "\n",
    "Реализуйте:\n",
    "\n",
    "- Класс Task с атрибутами name и status.\n",
    "- Класс StatusHandler с методом update_status(task, new_status), который меняет статус задачи.\n",
    "- Класс TaskManager, который делегирует изменение статусов классу StatusHandler, а также умеет добавлять и удалять задачи."
   ]
  },
  {
   "cell_type": "code",
   "execution_count": null,
   "id": "09320c47-7791-462d-bafa-9ddf3ce17cdc",
   "metadata": {},
   "outputs": [],
   "source": [
    "class TaskManager:\n",
    "    def __init__(self):\n",
    "        self.tasks = []\n",
    "        ...\n",
    "    \n",
    "    def add_task(self, task):\n",
    "        # your code here \n",
    "    \n",
    "    def update_task_status(self, task, status):\n",
    "        # your code here \n",
    "        \n",
    "    def remove_task(self, task):\n",
    "        # your code here\n",
    "    \n",
    "class StatusHandler:\n",
    "    # your code here\n",
    "    \n",
    "class Task:\n",
    "    def __init__(self, name):\n",
    "        self.name = name\n",
    "        self.status = 'новая' \n",
    "        \n",
    "manager = TaskManager()\n",
    "task1 = Task('Проверить код')\n",
    "task2 = Task('Написать отчет')\n",
    "\n",
    "manager.add_task(task1)\n",
    "manager.add_task(task2)\n",
    "manager.update_task_status(task1, 'выполняется')\n",
    "maager.remove_task(task2)"
   ]
  },
  {
   "cell_type": "markdown",
   "id": "b1331b7d-68ac-43b9-bd3a-d8cedef9c33d",
   "metadata": {},
   "source": [
    "#### Задача 2. \n",
    "\n",
    "Напишите класс Patient для пациентов больницы; у этого класса должен быть атрибут temperature, который нельзя установить выше 42 градусов. Используйте для этого property."
   ]
  },
  {
   "cell_type": "code",
   "execution_count": null,
   "id": "503e417e-9789-42d7-95e3-b2f1917d63cf",
   "metadata": {},
   "outputs": [],
   "source": [
    "# your code here"
   ]
  },
  {
   "cell_type": "markdown",
   "id": "c9d2ebfb-165b-4fd0-89ec-1385e8e45c70",
   "metadata": {},
   "source": [
    "#### Задача 3. \n",
    "\n",
    "Вы разрабатываете класс PoliteString, который гарантирует, что строка содержит только вежливые слова. Если кто-то попытается установить значение, содержащее грубости, будет выбрасываться исключение.\n",
    "\n",
    "Для этого используйте дескриптор, который проверяет значение перед установкой.\n",
    "\n",
    "1. Реализуйте дескриптор PoliteWordValidator, который:\n",
    "   - При установке значения проверяет, чтобы строка не содержала слова из списка грубостей: [\"грубиян\", \"хам\", \"ленивец\"].\n",
    "   - Если строка проходит проверку, сохраняет значение.\n",
    "   - Если строка содержит грубость, выбрасывает исключение ValueError с сообщением: \"Неприемлемое слово: <грубое_слово>\".\n",
    "\n",
    "2. Реализуйте класс PoliteString, который использует этот дескриптор для атрибута text.\n",
    "\n",
    "3. Проверьте свою реализацию на примерах.\n",
    "\n",
    "Пример использования:\n",
    "\n",
    "        try:\n",
    "            polite = PoliteString()\n",
    "            polite.text = \"Вы замечательный человек!\"  # Всё хорошо\n",
    "            print(polite.text)\n",
    "\n",
    "            polite.text = \"Вы грубиян!\"  # Ошибка\n",
    "        except ValueError as e:\n",
    "            print(e)"
   ]
  },
  {
   "cell_type": "code",
   "execution_count": null,
   "id": "051d4911-c476-40fd-8445-e05830117014",
   "metadata": {},
   "outputs": [],
   "source": [
    "# your code here"
   ]
  },
  {
   "cell_type": "markdown",
   "id": "aa6b737a-da4b-4733-8b32-853202fabdc1",
   "metadata": {},
   "source": [
    "#### Задача 4.\n",
    "\n",
    "Напишите класс Token, у которого могут быть только атрибуты category, text и lemma, и ему нельзя добавлять никакие другие атрибуты. "
   ]
  },
  {
   "cell_type": "code",
   "execution_count": null,
   "id": "4038bbe0-cd5a-4b78-8af8-9fd400d169e5",
   "metadata": {},
   "outputs": [],
   "source": [
    "# your code here"
   ]
  },
  {
   "cell_type": "markdown",
   "id": "55c146f3-9c8b-46ce-884b-4e1cb90b17e9",
   "metadata": {},
   "source": [
    "#### Задача 5. \n",
    "\n",
    "Добавьте своему классу Token метод для подсчета количества созданных токенов."
   ]
  },
  {
   "cell_type": "code",
   "execution_count": null,
   "id": "29d31ac4-a348-4716-a914-ed34653a6b09",
   "metadata": {},
   "outputs": [],
   "source": [
    "# your code here"
   ]
  }
 ],
 "metadata": {
  "kernelspec": {
   "display_name": "Python 3 (ipykernel)",
   "language": "python",
   "name": "python3"
  },
  "language_info": {
   "codemirror_mode": {
    "name": "ipython",
    "version": 3
   },
   "file_extension": ".py",
   "mimetype": "text/x-python",
   "name": "python",
   "nbconvert_exporter": "python",
   "pygments_lexer": "ipython3",
   "version": "3.11.5"
  }
 },
 "nbformat": 4,
 "nbformat_minor": 5
}
