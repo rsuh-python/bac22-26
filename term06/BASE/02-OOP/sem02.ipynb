{
 "cells": [
  {
   "cell_type": "markdown",
   "id": "efa0399e-ee9f-4ae8-bc59-9919422e2f37",
   "metadata": {},
   "source": [
    "1. Напишем класс \"Student\". Наш потенциальный студент должен иметь имя, курс и зачетку, а также обладать методами \"спать\", \"посетить пару\" и \"делать домашнюю работу\"."
   ]
  },
  {
   "cell_type": "code",
   "execution_count": 7,
   "id": "06cce606-d5f0-474e-9f9f-7c8c1a34b6e0",
   "metadata": {},
   "outputs": [
    {
     "name": "stdout",
     "output_type": "stream",
     "text": [
      "Вася идет на дисциплину: Программирование\n",
      "Вася спит\n",
      "z\n",
      "zzzzzz\n",
      "z\n",
      "Вася делает домашку по дисциплине: Программирование\n",
      "скучно .......\n",
      "скучно ....\n",
      "Вася идет на дисциплину: Общий синтаксис\n",
      "Вася спит\n",
      "zzzzzzzzz\n",
      "zzzzz\n",
      "zz\n",
      "Вася делает домашку по дисциплине: Общий синтаксис\n",
      "скучно ........\n",
      "скучно ..\n",
      "Вася идет на дисциплину: Русская морфология\n",
      "Вася спит\n",
      "zzzzzzzzz\n",
      "zzzzzzz\n",
      "zzzzzz\n",
      "Вася делает домашку по дисциплине: Русская морфология\n",
      "скучно ...\n",
      "скучно .....\n"
     ]
    }
   ],
   "source": [
    "import time #time.sleep(3)\n",
    "from random import randint\n",
    "class Student:\n",
    "    def __init__(self, name):\n",
    "        self.name = name\n",
    "        self.course = 1\n",
    "        self.recordbook = {}\n",
    "    def sleep(self, n):\n",
    "        print(f'{self.name} спит')\n",
    "        for i in range(n):\n",
    "            print('z' * randint(1, 10))\n",
    "            time.sleep(1)\n",
    "    def attendcourse(self, discipline):\n",
    "        print(f'{self.name} идет на дисциплину: {discipline}')\n",
    "        self.sleep(3) #селф абстрактный экземпляр\n",
    "    def dohomework(self, discipline, n):\n",
    "        print(f'{self.name} делает домашку по дисциплине: {discipline}')\n",
    "        for _ in range(n):\n",
    "            print('скучно', '.' * randint(1, 10))\n",
    "\n",
    "vasya = Student('Вася')\n",
    "disciplines = ['Программирование', 'Общий синтаксис', 'Русская морфология']\n",
    "for d in disciplines:\n",
    "    vasya.attendcourse(d)\n",
    "    vasya.dohomework(d, 2)\n"
   ]
  },
  {
   "cell_type": "markdown",
   "id": "2ac531c1-c1ee-4423-b16b-cbd1bfa37ca8",
   "metadata": {},
   "source": [
    "2. Напишем класс \"RecordBook\" для зачетки: при создании экземпляра этого класса должен заводиться словарик, в котором будут появляться записи о предметах и оценках за них. У класса должен быть метод \"сдать дисциплину\" и метод для просмотра содержимого зачетки. "
   ]
  },
  {
   "cell_type": "code",
   "execution_count": 8,
   "id": "acc807b9-b533-40f7-bfc6-8a1e8ae3c3b1",
   "metadata": {},
   "outputs": [
    {
     "name": "stdout",
     "output_type": "stream",
     "text": [
      "Вася идет на дисциплину: Программирование\n",
      "Вася спит\n",
      "z\n",
      "zzzzzzzzz\n",
      "zzzzz\n",
      "Вася делает домашку по дисциплине: Программирование\n",
      "скучно ......\n",
      "скучно .....\n",
      "Вася идет на дисциплину: Общий синтаксис\n",
      "Вася спит\n",
      "zz\n",
      "z\n",
      "zzzzzzzzz\n",
      "Вася делает домашку по дисциплине: Общий синтаксис\n",
      "скучно ........\n",
      "скучно ..\n",
      "Вася идет на дисциплину: Русская морфология\n",
      "Вася спит\n",
      "zzzz\n",
      "zzzz\n",
      "zzzzzzz\n",
      "Вася делает домашку по дисциплине: Русская морфология\n",
      "скучно ....\n",
      "скучно ......\n"
     ]
    },
    {
     "data": {
      "text/plain": [
       "<bound method Student.viewrecordbook of <__main__.Student object at 0x000002A0DF70E250>>"
      ]
     },
     "execution_count": 8,
     "metadata": {},
     "output_type": "execute_result"
    }
   ],
   "source": [
    "import time #time.sleep(3)\n",
    "from random import randint\n",
    "\n",
    "class Recordbook:\n",
    "    def __init__(self, studentname):\n",
    "        self.owner = studentname\n",
    "        self.marks = {}\n",
    "    def __str__(self):\n",
    "        return f\"Зачетка студента: {self.owner}\"\n",
    "    def showmarks(self):\n",
    "        l = max([len(x) for x in self.marks.keys()]) + 1\n",
    "        for k, v in self.marks.items():\n",
    "            print(f\"{k:<{l}}:{v:<3}\")\n",
    "    def addmarks(self, discipline, marks):\n",
    "        self.marks[discipline] = mark\n",
    "class Student:\n",
    "    def __init__(self, name):\n",
    "        self.name = name\n",
    "        self.course = 1\n",
    "        self.recordbook = Recordbook(name)\n",
    "    def sleep(self, n):\n",
    "        print(f'{self.name} спит')\n",
    "        for i in range(n):\n",
    "            print('z' * randint(1, 10))\n",
    "            time.sleep(1)\n",
    "    def attendcourse(self, discipline):\n",
    "        print(f'{self.name} идет на дисциплину: {discipline}')\n",
    "        self.sleep(3) #селф абстрактный экземпляр\n",
    "    def dohomework(self, discipline, n):\n",
    "        print(f'{self.name} делает домашку по дисциплине: {discipline}')\n",
    "        for _ in range(n):\n",
    "            print('скучно', '.' * randint(1, 10))\n",
    "    def passexam(self, discipline):\n",
    "        print(f\"{self.name} сдает экзамен по: {discipline}\")\n",
    "        mark = randint(2, 5)\n",
    "        self.recordbook.addmark(discipline, mark)\n",
    "    def viewrecordbook(self):\n",
    "        print(self.recordbook)\n",
    "        self.recordbook.showmarks()\n",
    "    \n",
    "\n",
    "vasya = Student('Вася')\n",
    "disciplines = ['Программирование', 'Общий синтаксис', 'Русская морфология']\n",
    "for d in disciplines:\n",
    "    vasya.attendcourse(d)\n",
    "    vasya.dohomework(d, 2)\n",
    "for d in disciplines:\n",
    "    vasya.passexam\n",
    "vasya.viewrecordbook\n"
   ]
  },
  {
   "cell_type": "code",
   "execution_count": 9,
   "id": "62dca1c8",
   "metadata": {},
   "outputs": [
    {
     "name": "stdout",
     "output_type": "stream",
     "text": [
      "Вася идет на дисциплину: Программирование\n",
      "Вася спит\n",
      "zzzzzzzzz\n",
      "zzzzzzzzzz\n",
      "zzz\n",
      "Вася делает домашку по дисциплине: Программирование\n",
      "скучно ..........\n",
      "скучно .....\n",
      "Вася идет на дисциплину: Общий синтаксис\n",
      "Вася спит\n",
      "zzzzzzzz\n",
      "zzzz\n",
      "zzzz\n",
      "Вася делает домашку по дисциплине: Общий синтаксис\n",
      "скучно .\n",
      "скучно .......\n",
      "Вася идет на дисциплину: Русская морфология\n",
      "Вася спит\n",
      "zzzzzz\n",
      "z\n",
      "zzz\n",
      "Вася делает домашку по дисциплине: Русская морфология\n",
      "скучно ........\n",
      "скучно ...\n",
      "Вася сдает экзамен по: Программирование\n",
      "Вася сдает экзамен по: Общий синтаксис\n",
      "Вася сдает экзамен по: Русская морфология\n",
      "Зачетка студента: Вася\n",
      "Программирование   :  2\n",
      "Общий синтаксис    :  2\n",
      "Русская морфология :  3\n"
     ]
    }
   ],
   "source": [
    "class RecordBook:\n",
    "    def __init__(self, studentname):\n",
    "        self.owner = studentname \n",
    "        self.marks = {}\n",
    "    def __str__(self):\n",
    "        return f\"Зачетка студента: {self.owner}\"\n",
    "    def showmarks(self):\n",
    "        l = max([len(x) for x in self.marks.keys()]) + 1\n",
    "        for k, v in self.marks.items():\n",
    "            print(f\"{k:<{l}}:{v:>3}\")\n",
    "    def addmark(self, discipline, mark):\n",
    "        self.marks[discipline] = mark\n",
    "\n",
    "class Student:\n",
    "    def __init__(self, name):\n",
    "        self.name = name \n",
    "        self.course = 1 \n",
    "        self.recordbook = RecordBook(name) \n",
    "    def sleep(self, n):\n",
    "        print(f'{self.name} спит')\n",
    "        for _ in range(n):\n",
    "            print('z' * randint(1, 10))\n",
    "            time.sleep(1)\n",
    "    def attendcourse(self, discipline):\n",
    "        print(f'{self.name} идет на дисциплину: {discipline}')\n",
    "        self.sleep(3)\n",
    "    def dohomework(self, discipline, n):\n",
    "        print(f'{self.name} делает домашку по дисциплине: {discipline}')\n",
    "        for _ in range(n):\n",
    "            print('скучно', '.' * randint(1, 10))\n",
    "    def passexam(self, discipline):\n",
    "        print(f\"{self.name} сдает экзамен по: {discipline}\")\n",
    "        mark = randint(2, 5)\n",
    "        self.recordbook.addmark(discipline, mark)\n",
    "    def viewrecordbook(self):\n",
    "        print(self.recordbook)\n",
    "        self.recordbook.showmarks()\n",
    "        \n",
    "vasya = Student('Вася')\n",
    "disciplines = ['Программирование', 'Общий синтаксис', 'Русская морфология']\n",
    "for d in disciplines:\n",
    "    vasya.attendcourse(d)\n",
    "    vasya.dohomework(d, 2)\n",
    "for d in disciplines:\n",
    "    vasya.passexam(d)\n",
    "vasya.viewrecordbook()"
   ]
  },
  {
   "cell_type": "markdown",
   "id": "babb13cb-1632-4518-8d8a-21d9a844af3a",
   "metadata": {},
   "source": [
    "#### Задача 1. \n",
    "\n",
    "Допишите класс Discipline, который будет описывать какой-нибудь предмет: пусть у каждой дисциплины будет свое стандартное время лекции (1 или 2 пары, например) и коэффициент сложности, который будет заставлять студента тратить больше или меньше времени на домашки. "
   ]
  },
  {
   "cell_type": "code",
   "execution_count": 14,
   "id": "1b763e20-5436-4305-8e50-818da029d581",
   "metadata": {},
   "outputs": [
    {
     "name": "stdout",
     "output_type": "stream",
     "text": [
      "Вася идет на дисциплину: Программирование\n",
      "Вася спит\n",
      "Вася делает домашку по дисциплине: Программирование\n",
      "скучно .\n",
      "скучно .........\n",
      "скучно ......\n",
      "Вася идет на дисциплину: Общий синтаксис\n",
      "Вася спит\n",
      "Вася делает домашку по дисциплине: Общий синтаксис\n",
      "скучно ..........\n",
      "скучно ..........\n",
      "Вася идет на дисциплину: Русская морфология\n",
      "Вася спит\n",
      "Вася делает домашку по дисциплине: Русская морфология\n",
      "скучно ...\n"
     ]
    }
   ],
   "source": [
    "class RecordBook:\n",
    "    def __init__(self, studentname):\n",
    "        self.owner = studentname \n",
    "        self.marks = {}\n",
    "    def __str__(self):\n",
    "        return f\"Зачетка студента: {self.owner}\"\n",
    "    def showmarks(self):\n",
    "        l = max([len(x) for x in self.marks.keys()]) + 1\n",
    "        for k, v in self.marks.items():\n",
    "            print(f\"{k:<{l}}:{v:>3}\")\n",
    "    def addmark(self, discipline, mark):\n",
    "        self.marks[discipline] = mark\n",
    "\n",
    "class Student:\n",
    "    def __init__(self, name):\n",
    "        self.name = name \n",
    "        self.course = 1 \n",
    "        self.recordbook = RecordBook(name) \n",
    "    def sleep(self, n):\n",
    "        print(f'{self.name} спит')\n",
    "        # for _ in range(n):\n",
    "        #     print('z' * randint(1, 10))\n",
    "        time.sleep(n)\n",
    "    def attendcourse(self, discipline):\n",
    "        print(f'{self.name} идет на дисциплину: {discipline.name}')\n",
    "        self.sleep(discipline.duration)\n",
    "    def dohomework(self, discipline):\n",
    "        print(f'{self.name} делает домашку по дисциплине: {discipline.name}')\n",
    "        if discipline.diff >= 2:\n",
    "            n = 3\n",
    "        elif 1 <= discipline.diff < 2:\n",
    "            n = 2\n",
    "        else:\n",
    "            n = 1\n",
    "        for _ in range(n):\n",
    "            print('скучно', '.' * randint(1, 10))\n",
    "    def passexam(self, discipline):\n",
    "        print(f\"{self.name} сдает экзамен по: {discipline.name}\")\n",
    "        mark = randint(2, 5)\n",
    "        self.recordbook.addmark(discipline, mark)\n",
    "    def viewrecordbook(self):\n",
    "        print(self.recordbook)\n",
    "        self.recordbook.showmarks()\n",
    "\n",
    "class Discipline:\n",
    "    def __init__(self, name, duration_lec, diffic):\n",
    "        self.name = name\n",
    "        self.duration = duration_lec\n",
    "        self.diff = diffic\n",
    "\n",
    "vasya = Student('Вася')\n",
    "disciplines = [Discipline('Программирование', 1.5, 2), \n",
    "               Discipline('Общий синтаксис', 2, 1), \n",
    "               Discipline('Русская морфология', 3, 0.5)]\n",
    "for d in disciplines:\n",
    "    vasya.attendcourse(d)\n",
    "    vasya.dohomework(d)"
   ]
  },
  {
   "cell_type": "markdown",
   "id": "d41c194e-20bd-4662-b97d-40e968411a87",
   "metadata": {},
   "source": [
    "#### Задача 2 (2 балла). \n",
    "\n",
    "Получать оценки методом рандома - грустно. Попробуйте придумать что-нибудь, чтобы оценки за домашку зависели от времени, которое на нее потратил студент (но при этом неплохо бы поставить какое-нибудь ограничение, чтобы студент не мог сидеть над домашкой 100500 часов!), а оценки за ту часть экзамена, которая сдается непосредственно на экзамене - от ранее полученных оценок (ну типа, если человек весь семестр учился хорошо и получал одни пятерки, шанс, что он на самом экзамене ответит на 0 баллов, крайне невелик...)"
   ]
  },
  {
   "cell_type": "code",
   "execution_count": 15,
   "id": "51689df1-8d95-495c-a581-cd0e013fb129",
   "metadata": {},
   "outputs": [
    {
     "name": "stdout",
     "output_type": "stream",
     "text": [
      "Вася идет на дисциплину: Программирование\n",
      "Вася спит\n",
      "Вася делает домашку по дисциплине: Программирование\n",
      "скучно .......\n",
      "скучно ...\n",
      "скучно ..\n",
      "Вася идет на дисциплину: Общий синтаксис\n",
      "Вася спит\n",
      "Вася делает домашку по дисциплине: Общий синтаксис\n",
      "скучно ...\n",
      "скучно .\n",
      "Вася идет на дисциплину: Русская морфология\n",
      "Вася спит\n",
      "Вася делает домашку по дисциплине: Русская морфология\n",
      "скучно ....\n",
      "Вася сдает экзамен по: Программирование\n",
      "Вася получил 61.0 баллов\n",
      "Вася сдает экзамен по: Общий синтаксис\n",
      "Вася получил 80.0 баллов\n",
      "Вася сдает экзамен по: Русская морфология\n",
      "Вася получил 36.0 баллов\n"
     ]
    }
   ],
   "source": [
    "class RecordBook:\n",
    "    def __init__(self, studentname):\n",
    "        self.owner = studentname \n",
    "        self.marks = {}\n",
    "    def __str__(self):\n",
    "        return f\"Зачетка студента: {self.owner}\"\n",
    "    def showmarks(self):\n",
    "        l = max([len(x) for x in self.marks.keys()]) + 1\n",
    "        for k, v in self.marks.items():\n",
    "            print(f\"{k:<{l}}:{v:>3}\")\n",
    "    def addmark(self, discipline, mark):\n",
    "        if discipline not in self.marks.keys():\n",
    "            self.marks[discipline] = [mark]\n",
    "        else:\n",
    "            self.marks[discipline].append(mark)\n",
    "\n",
    "\n",
    "class Student:\n",
    "    def __init__(self, name):\n",
    "        self.name = name \n",
    "        self.course = 1 \n",
    "        self.recordbook = RecordBook(name) \n",
    "    def sleep(self, n):\n",
    "        print(f'{self.name} спит')\n",
    "        # for _ in range(n):\n",
    "        #     print('z' * randint(1, 10))\n",
    "        time.sleep(n)\n",
    "    def attendcourse(self, discipline):\n",
    "        print(f'{self.name} идет на дисциплину: {discipline.name}')\n",
    "        self.sleep(discipline.duration)\n",
    "    def dohomework(self, discipline):\n",
    "        print(f'{self.name} делает домашку по дисциплине: {discipline.name}')\n",
    "        if discipline.diff >= 2:\n",
    "            n = 3\n",
    "        elif 1 <= discipline.diff < 2:\n",
    "            n = 2\n",
    "        else:\n",
    "            n = 1\n",
    "        for _ in range(n):\n",
    "            print('скучно', '.' * randint(1, 10))\n",
    "        self.recordbook.addmark(discipline.name, randint(2, 5))\n",
    "    def passexam(self, discipline):\n",
    "        print(f\"{self.name} сдает экзамен по: {discipline.name}\")\n",
    "        percent = sum(self.recordbook.marks[discipline.name]) / (5 * len(self.recordbook.marks[discipline.name])) * 60\n",
    "        ex_marks = randint(0, 40)\n",
    "        print(f\"{self.name} получил {round(percent, 2) + ex_marks} баллов\")\n",
    "        # self.recordbook.addmark(discipline.name, mark)\n",
    "    def viewrecordbook(self):\n",
    "        print(self.recordbook)\n",
    "        self.recordbook.showmarks()\n",
    "\n",
    "class Discipline:\n",
    "    def __init__(self, name, duration_lec, diffic):\n",
    "        self.name = name\n",
    "        self.duration = duration_lec\n",
    "        self.diff = diffic\n",
    "\n",
    "vasya = Student('Вася')\n",
    "disciplines = [Discipline('Программирование', 1.5, 2), \n",
    "               Discipline('Общий синтаксис', 2, 1), \n",
    "               Discipline('Русская морфология', 3, 0.5)]\n",
    "for d in disciplines:\n",
    "    vasya.attendcourse(d)\n",
    "    vasya.dohomework(d)\n",
    "for d in disciplines:\n",
    "    vasya.passexam(d)"
   ]
  },
  {
   "cell_type": "markdown",
   "id": "4812e263",
   "metadata": {},
   "source": [
    "#### Задача 3. \n",
    "\n",
    "Самый популярный формат морфосинтаксической разметки сегодня - [Universal Dependencies](universaldependencies.org). В этом формате размечен, например, ГИКРЯ, и недавно на него перешел НКРЯ. Тексты в этом формате хранятся в файлах с расширением .conllu (это обычный текстовый файл, просто специально структурированный), где каждое предложение - это список строк, а на каждой строке - отдельный токен из предложения со своими характеристиками, разделенными знаком табуляции, например:\n",
    "\n",
    "    14\tтысяч\tтысяча\tNOUN\t_\tAnimacy=Inan|Case=Gen|Gender=Fem|Number=Plur\t11\tnsubj\t11:nsubj\tSpaceAfter=No\n",
    "\n",
    "У каждого токена всегда в одном и том же порядке записываются следующие сведения о нем: \n",
    "\n",
    "- IDX: порядковый номер в предложении\n",
    "- FORM: словоформа\n",
    "- LEMMA: лемма\n",
    "- UPOS: часть речи в стандарте UD\n",
    "- XPOS: часть речи в другом стандарте, если разметка была сконвертирована, или прочерк \\_\n",
    "- FEATS: грамматические характеристики через | (название=значение)\n",
    "- HEAD: индекс вершины данного токена \n",
    "- DEPREL: синтаксическая связь, в которой выступает этот токен (nsubj - подлежащее, например)\n",
    "- DEPS: расширенное описание синтаксической связи, обычно выглядит как индекс:тип связи\n",
    "- MISC: тут может быть любая техническая информация, обычно пишется, идет ли за этим токеном пробел или нет (например, перед запятой будет SpaceAfter=No)\n",
    "\n",
    "Напишите класс Token, который будет хранить в себе информацию о токене в стандарте UD: у этого класса должно быть десять атрибутов, магические методы \\_\\_str\\_\\_ и \\_\\_repr\\_\\_. Подумайте, как более удобно создавать экземпляр такого класса из готовой строки, прочитанной из файла, как в примере выше. "
   ]
  },
  {
   "cell_type": "code",
   "execution_count": 1,
   "id": "b52ea8f4",
   "metadata": {},
   "outputs": [],
   "source": [
    "class Token:\n",
    "    def __init__(self, line):\n",
    "        self.id, self.form, self.lemma, self.upos, self.xpos, self.feats, self.head, self.deprel, self.deps, self.misc = line.split('\\t')\n",
    "    def __str__(self):\n",
    "        return f'Токен {self.id}: {self.form}\\nЛемма: {self.lemma}\\nЧасть речи: {self.upos}\\nГрамматические характеристики: {self.feats}\\nСинтаксическая связь: {self.deprel}'\n",
    "    def __repr__(self):\n",
    "        return f'Token(id={self.id}, form={self.form}, lemma={self.lemma}, upos={self.upos}, xpos={self.xpos}, feats={self.feats}, head={self.head}, deprel={self.deprel}, deps={self.deps}, misc={self.misc})'\n"
   ]
  },
  {
   "cell_type": "code",
   "execution_count": 2,
   "id": "c84794da",
   "metadata": {},
   "outputs": [
    {
     "name": "stdout",
     "output_type": "stream",
     "text": [
      "Токен 14: тысяч\n",
      "Лемма: тысяча\n",
      "Часть речи: NOUN\n",
      "Грамматические характеристики: Animacy=Inan|Case=Gen|Gender=Fem|Number=Plur\n",
      "Синтаксическая связь: nsubj\n"
     ]
    }
   ],
   "source": [
    "line ='14\tтысяч\tтысяча\tNOUN\t_\tAnimacy=Inan|Case=Gen|Gender=Fem|Number=Plur\t11\tnsubj\t11:nsubj\tSpaceAfter=No'\n",
    "token = Token(line)\n",
    "print(token)"
   ]
  },
  {
   "cell_type": "code",
   "execution_count": null,
   "id": "4c26874a",
   "metadata": {},
   "outputs": [
    {
     "name": "stdout",
     "output_type": "stream",
     "text": [
      "Token(id=14, form=тысяч, lemma=тысяча, upos=NOUN, xpos=_, feats=Animacy=Inan|Case=Gen|Gender=Fem|Number=Plur, head=11, deprel=nsubj, deps=11:nsubj, misc=SpaceAfter=No)\n"
     ]
    }
   ],
   "source": [
    "# я делала все по аналогии, но если честно так и не поняла, как проявляет себя __repr__\n",
    "#получается __repr__ используется в разработческой среде, для того чтобы показать, как устроен конкретно написанный класс? (в смысле его структура)\n",
    "print(repr(token))"
   ]
  },
  {
   "cell_type": "markdown",
   "id": "feafc7b7",
   "metadata": {},
   "source": [
    "#### Задача 4. \n",
    "\n",
    "Напишите класс \"автомобиль\", у которого в атрибутах должны быть: 1) марка 2) количество сидений 3) максимальный объем бензобака 4) текущее количество бензина 5) уровень чистоты (можно считать, что в процентах). Допишите для него методы: посадить пассажиров (если пассажиров больше, чем количество сидений, то нельзя посадить), наполнить бензобак (нельзя наполнить больше, чем максимальный объем), помыть машину. "
   ]
  },
  {
   "cell_type": "code",
   "execution_count": 3,
   "id": "8d4652bf",
   "metadata": {},
   "outputs": [],
   "source": [
    "class Car:\n",
    "    def __init__(self, brand, seats, fuel_tank, fuel, cleanliness):\n",
    "        self.brand = brand #марка\n",
    "        self.seats = seats #сиденья\n",
    "        self.fuel_tank = fuel_tank #макс объем\n",
    "        self.fuel = fuel #текущее колво бензина\n",
    "        self.cleanliness = cleanliness #уровень чистоты\n",
    "    def __str__(self):\n",
    "        return f\"Машина марки {self.brand}, количество сидений: {self.seats}, макс объем бензобака: {self.fuel_tank}, текущее количество бензина: {self.fuel}, уровень чистоты: {self.cleanliness}\"\n",
    "    def new_passengers(self, passengers):\n",
    "        if self.seats < passengers:\n",
    "            print('Невозможно посадить столько чесловек.')\n",
    "        else:\n",
    "            print(f'Посадили {passengers} человек.')\n",
    "    def refueling(self, litres):\n",
    "        self.fuel += litres\n",
    "        if self.fuel > self.fuel_tank:\n",
    "            self.fuel = self.fuel_tank\n",
    "        print(f'Теперь текущее количество бензина: {self.fuel}л')\n",
    "    def washing(self):\n",
    "        self.cleanliness = 100\n",
    "        print(f'Машина помыта! Уровень чистоты теперь: {self.cleanliness}%')\n",
    "\n"
   ]
  },
  {
   "cell_type": "code",
   "execution_count": 4,
   "id": "4aef1274",
   "metadata": {},
   "outputs": [],
   "source": [
    "f_car = Car('Kia', 5, 70, 35, 10)"
   ]
  },
  {
   "cell_type": "code",
   "execution_count": 5,
   "id": "dfc51f5f",
   "metadata": {},
   "outputs": [
    {
     "name": "stdout",
     "output_type": "stream",
     "text": [
      "Посадили 3 человек.\n",
      "Теперь текущее количество бензина: 55л\n",
      "Машина помыта! Уровень чистоты теперь: 100%\n"
     ]
    }
   ],
   "source": [
    "while True:\n",
    "    user = int(input('Введите команду: \\n\\t0 - выход\\n\\t1 - посадить пассажиров\\n\\t2 - заправиться\\n\\t3 - помыть машину'))\n",
    "    if user == 0:\n",
    "        break\n",
    "    elif user == 1:\n",
    "        people = int(input('Сколько человек хотите посадить?'))\n",
    "        f_car.new_passengers(people)\n",
    "    elif user == 2:\n",
    "        fuel = int(input('На сколько литров хотите заправиться?'))\n",
    "        f_car.refueling(fuel)\n",
    "    elif user == 3:\n",
    "        f_car.washing()"
   ]
  }
 ],
 "metadata": {
  "kernelspec": {
   "display_name": "Python 3",
   "language": "python",
   "name": "python3"
  },
  "language_info": {
   "codemirror_mode": {
    "name": "ipython",
    "version": 3
   },
   "file_extension": ".py",
   "mimetype": "text/x-python",
   "name": "python",
   "nbconvert_exporter": "python",
   "pygments_lexer": "ipython3",
   "version": "3.11.9"
  }
 },
 "nbformat": 4,
 "nbformat_minor": 5
}
