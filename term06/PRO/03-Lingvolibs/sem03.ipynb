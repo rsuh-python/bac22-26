{
 "cells": [
  {
   "cell_type": "markdown",
   "id": "3e3206a7-39da-4280-b729-2366de54469c",
   "metadata": {},
   "source": [
    "#### Задача 1. \n",
    "\n",
    "Выберите любой понравившийся художественный текст. Превратите его в объект Text() nltk. Попробуйте поискать вхождения какого-нибудь слова (QWIC)."
   ]
  },
  {
   "cell_type": "code",
   "execution_count": null,
   "id": "8ca2ebd4-4c1f-43f7-a1d9-cf0ae4020ab3",
   "metadata": {},
   "outputs": [],
   "source": [
    "# your code here"
   ]
  },
  {
   "cell_type": "markdown",
   "id": "e35a87fd-3865-4e08-ae66-55c06bd43531",
   "metadata": {},
   "source": [
    "#### Задача 2. \n",
    "\n",
    "Выведите 5 самых частотных 4-грамов в этом тексте. Сгенерируйте текст на основе вашего. "
   ]
  },
  {
   "cell_type": "code",
   "execution_count": null,
   "id": "5e86f51f-ce36-49a9-ab95-e88014b384ea",
   "metadata": {},
   "outputs": [],
   "source": [
    "# your code here"
   ]
  },
  {
   "cell_type": "markdown",
   "id": "26a24fbd-e292-4c2f-97be-02f933429f51",
   "metadata": {},
   "source": [
    "#### Задача 3. \n",
    "\n",
    "Возьмите два текста (не короче 10 предложений! Чем больше, тем лучше, очень желательно в текстовых файлах) на русском и английском языке. Посчитайте для них процент лексического разнообразия (по формуле количество уникальных токенов / общее количество токенов \\* 100), используя любой морфопарсер для того, чтобы уменьшить влияние морфологии. "
   ]
  },
  {
   "cell_type": "code",
   "execution_count": null,
   "id": "324c7cd4-9368-487d-87df-f04fee577590",
   "metadata": {},
   "outputs": [],
   "source": [
    "# your code here"
   ]
  },
  {
   "cell_type": "markdown",
   "id": "baecbd92-6290-4952-90a1-761d44c3cc0f",
   "metadata": {},
   "source": [
    "#### Задача 4. \n",
    "\n",
    "Для любого (достаточно длинного - возьмите файл!) текста на русском языке посчитайте процентный состав по частям речи: сколько в нем в процентах сущ, гл и т.п. "
   ]
  },
  {
   "cell_type": "code",
   "execution_count": null,
   "id": "505c2a1c-f76a-493a-9601-2554eac99d95",
   "metadata": {},
   "outputs": [],
   "source": [
    "# your code here"
   ]
  },
  {
   "cell_type": "markdown",
   "id": "d59f1972-206a-4e71-b68e-1414248d4f3a",
   "metadata": {},
   "source": [
    "#### Задача 5. \n",
    "\n",
    "Посчитайте, сколько раз в тексте прилагательное шло после существительного, а сколько раз - до него (т.е. все случаи типа \"красивая девочка\" vs \"девочка красивая\"). Подумайте, можно ли доверять этим цифрам. "
   ]
  },
  {
   "cell_type": "code",
   "execution_count": null,
   "id": "60e9b29d-1d87-4376-8989-ec7cb90f441f",
   "metadata": {},
   "outputs": [],
   "source": [
    "# your code here"
   ]
  },
  {
   "cell_type": "markdown",
   "id": "250f54c9-735d-4b32-9897-b8d3e23db05a",
   "metadata": {},
   "source": [
    "#### Задача 6. \n",
    "\n",
    "В корпусной лингвистике и NLP существует такая метрика, как [TF-IDF](https://ru.wikipedia.org/wiki/TF-IDF). Соберите игрушечный корпус на 10 текстов (необязательно больших); напишите программу, которая будет по запросу пользователя выводить эту метрику для заданного пользователем слова на вашем корпусе. Это означает, что корпус необходимо будет лемматизировать и посчитать количество слов по документам. \n",
    "\n",
    "Подсказка: функции для подсчета логарифмов есть в модуле math. "
   ]
  },
  {
   "cell_type": "code",
   "execution_count": null,
   "id": "331d0169-efdf-4f96-bc98-34f4aa917c28",
   "metadata": {},
   "outputs": [],
   "source": [
    "# your code here"
   ]
  },
  {
   "cell_type": "markdown",
   "id": "4fa7391b-c230-4680-accc-b914bee1bbdd",
   "metadata": {},
   "source": [
    "#### Задача 7. \n",
    "\n",
    "Возьмите любой достаточно длинный новостной текст, извлеките из него все именованные сущности и нормализуйте их."
   ]
  },
  {
   "cell_type": "code",
   "execution_count": null,
   "id": "8eac4e3a-afae-4efb-822d-c1a9bf42bd61",
   "metadata": {},
   "outputs": [],
   "source": [
    "# your code here"
   ]
  },
  {
   "cell_type": "markdown",
   "id": "0f5c06c9-e8b8-4667-8aae-e1e341982690",
   "metadata": {},
   "source": [
    "#### Задача 8. \n",
    "\n",
    "Постройте дерево зависимостей для одного и того же предложения в natasha и spacy или corpy (для последнего придется вручную записать файл .conll и отправить его содержимое в арборатор, например). Сравните, что вам больше нравится."
   ]
  },
  {
   "cell_type": "code",
   "execution_count": null,
   "id": "342727b5-4d60-4d76-8027-15315f6ebe5f",
   "metadata": {},
   "outputs": [],
   "source": [
    "# your code here"
   ]
  },
  {
   "cell_type": "markdown",
   "id": "2572a5ec-bee0-4786-ab4c-a61eede7de95",
   "metadata": {},
   "source": [
    "#### Задача 9. \n",
    "\n",
    "Возьмите пару достаточно сложных (с частеречной омонимией, например) предложений на любом языке и сделайте их полный морфосинтаксический разбор с помощью хотя бы двух любых известных вам (и работающих для этого языка) инструментов. Если эти инструменты делают разбор в одном формате (например, UD), выведите автоматически разницу в разборах."
   ]
  },
  {
   "cell_type": "code",
   "execution_count": null,
   "id": "873323a5-0dc1-4d6c-bff8-8dce2ac35126",
   "metadata": {},
   "outputs": [],
   "source": [
    "# your code here"
   ]
  }
 ],
 "metadata": {
  "kernelspec": {
   "display_name": "Python 3 (ipykernel)",
   "language": "python",
   "name": "python3"
  },
  "language_info": {
   "codemirror_mode": {
    "name": "ipython",
    "version": 3
   },
   "file_extension": ".py",
   "mimetype": "text/x-python",
   "name": "python",
   "nbconvert_exporter": "python",
   "pygments_lexer": "ipython3",
   "version": "3.10.11"
  }
 },
 "nbformat": 4,
 "nbformat_minor": 5
}
